{
  "nbformat": 4,
  "nbformat_minor": 0,
  "metadata": {
    "colab": {
      "name": "model.ipynb",
      "provenance": []
    },
    "kernelspec": {
      "name": "python3",
      "display_name": "Python 3"
    },
    "language_info": {
      "name": "python"
    }
  },
  "cells": [
    {
      "cell_type": "code",
      "metadata": {
        "id": "zYFVPbW3KIag"
      },
      "source": [
        "import pandas as pd\n",
        "import matplotlib.pyplot as plt\n",
        "import numpy as np\n",
        "import re as re\n",
        "import seaborn as sns\n",
        "from scipy.stats import chi2_contingency\n",
        "import pandas as pd\n",
        "import numpy as np\n",
        "from sklearn import preprocessing\n",
        "import matplotlib.pyplot as plt \n",
        "plt.rc(\"font\", size=14)\n",
        "from sklearn.linear_model import LogisticRegression\n",
        "from sklearn.model_selection import train_test_split\n",
        "import seaborn as sns\n",
        "sns.set(style=\"white\")\n",
        "sns.set(style=\"whitegrid\", color_codes=True)\n",
        "from sklearn import metrics"
      ],
      "execution_count": null,
      "outputs": []
    },
    {
      "cell_type": "code",
      "metadata": {
        "colab": {
          "base_uri": "https://localhost:8080/",
          "height": 173
        },
        "id": "2dIj3VDBLW-W",
        "outputId": "00346cc6-97ab-4d25-9112-f1f5d0e78777"
      },
      "source": [
        "db_fraud = pd.read_csv(r\"bs140513_032310.csv\")\n",
        "db_fraud.head(4)        "
      ],
      "execution_count": null,
      "outputs": [
        {
          "output_type": "execute_result",
          "data": {
            "text/html": [
              "<div>\n",
              "<style scoped>\n",
              "    .dataframe tbody tr th:only-of-type {\n",
              "        vertical-align: middle;\n",
              "    }\n",
              "\n",
              "    .dataframe tbody tr th {\n",
              "        vertical-align: top;\n",
              "    }\n",
              "\n",
              "    .dataframe thead th {\n",
              "        text-align: right;\n",
              "    }\n",
              "</style>\n",
              "<table border=\"1\" class=\"dataframe\">\n",
              "  <thead>\n",
              "    <tr style=\"text-align: right;\">\n",
              "      <th></th>\n",
              "      <th>step</th>\n",
              "      <th>customer</th>\n",
              "      <th>age</th>\n",
              "      <th>gender</th>\n",
              "      <th>zipcodeOri</th>\n",
              "      <th>merchant</th>\n",
              "      <th>zipMerchant</th>\n",
              "      <th>category</th>\n",
              "      <th>amount</th>\n",
              "      <th>fraud</th>\n",
              "    </tr>\n",
              "  </thead>\n",
              "  <tbody>\n",
              "    <tr>\n",
              "      <th>0</th>\n",
              "      <td>0</td>\n",
              "      <td>'C1093826151'</td>\n",
              "      <td>'4'</td>\n",
              "      <td>'M'</td>\n",
              "      <td>'28007'</td>\n",
              "      <td>'M348934600'</td>\n",
              "      <td>'28007'</td>\n",
              "      <td>'es_transportation'</td>\n",
              "      <td>4.55</td>\n",
              "      <td>0</td>\n",
              "    </tr>\n",
              "    <tr>\n",
              "      <th>1</th>\n",
              "      <td>0</td>\n",
              "      <td>'C352968107'</td>\n",
              "      <td>'2'</td>\n",
              "      <td>'M'</td>\n",
              "      <td>'28007'</td>\n",
              "      <td>'M348934600'</td>\n",
              "      <td>'28007'</td>\n",
              "      <td>'es_transportation'</td>\n",
              "      <td>39.68</td>\n",
              "      <td>0</td>\n",
              "    </tr>\n",
              "    <tr>\n",
              "      <th>2</th>\n",
              "      <td>0</td>\n",
              "      <td>'C2054744914'</td>\n",
              "      <td>'4'</td>\n",
              "      <td>'F'</td>\n",
              "      <td>'28007'</td>\n",
              "      <td>'M1823072687'</td>\n",
              "      <td>'28007'</td>\n",
              "      <td>'es_transportation'</td>\n",
              "      <td>26.89</td>\n",
              "      <td>0</td>\n",
              "    </tr>\n",
              "    <tr>\n",
              "      <th>3</th>\n",
              "      <td>0</td>\n",
              "      <td>'C1760612790'</td>\n",
              "      <td>'3'</td>\n",
              "      <td>'M'</td>\n",
              "      <td>'28007'</td>\n",
              "      <td>'M348934600'</td>\n",
              "      <td>'28007'</td>\n",
              "      <td>'es_transportation'</td>\n",
              "      <td>17.25</td>\n",
              "      <td>0</td>\n",
              "    </tr>\n",
              "  </tbody>\n",
              "</table>\n",
              "</div>"
            ],
            "text/plain": [
              "   step       customer  age  ...             category amount fraud\n",
              "0     0  'C1093826151'  '4'  ...  'es_transportation'   4.55     0\n",
              "1     0   'C352968107'  '2'  ...  'es_transportation'  39.68     0\n",
              "2     0  'C2054744914'  '4'  ...  'es_transportation'  26.89     0\n",
              "3     0  'C1760612790'  '3'  ...  'es_transportation'  17.25     0\n",
              "\n",
              "[4 rows x 10 columns]"
            ]
          },
          "metadata": {
            "tags": []
          },
          "execution_count": 2
        }
      ]
    },
    {
      "cell_type": "code",
      "metadata": {
        "colab": {
          "base_uri": "https://localhost:8080/"
        },
        "id": "_szgZlHL4Kwr",
        "outputId": "05583f1a-14af-41d3-e0fc-799ac62b4d83"
      },
      "source": [
        "db_fraud.drop([\"zipcodeOri\", \"zipMerchant\"], axis=1, inplace=True)\n",
        "db_fraud.shape "
      ],
      "execution_count": null,
      "outputs": [
        {
          "output_type": "execute_result",
          "data": {
            "text/plain": [
              "(594643, 8)"
            ]
          },
          "metadata": {
            "tags": []
          },
          "execution_count": 3
        }
      ]
    },
    {
      "cell_type": "code",
      "metadata": {
        "colab": {
          "base_uri": "https://localhost:8080/"
        },
        "id": "q_W-yMcB6bQx",
        "outputId": "188309ca-7b84-405e-95de-abb56825b0da"
      },
      "source": [
        "cols = [\"customer\", \"age\", \"gender\", \"merchant\",\"category\"]\n",
        "for col in cols:\n",
        "    db_fraud[col]= db_fraud[col].apply(lambda x: x.replace('\\'','')) #remove quotes from the columns\n",
        "db_fraud.head(3)\n",
        "db_fraud[\"category\"].replace({\"es_transportatio\": \"es_transportation\"}, inplace=True) #correct the transavtion\n",
        "#db_fraud[\"category\"].replace(,[new_value1, new_value2, new_value3])\n",
        "db_fraud.category.unique()"
      ],
      "execution_count": null,
      "outputs": [
        {
          "output_type": "execute_result",
          "data": {
            "text/plain": [
              "array(['es_transportation', 'es_health', 'es_otherservices', 'es_food',\n",
              "       'es_hotelservices', 'es_barsandrestaurants', 'es_tech',\n",
              "       'es_sportsandtoys', 'es_wellnessandbeauty', 'es_hyper',\n",
              "       'es_fashion', 'es_home', 'es_contents', 'es_travel', 'es_leisure'],\n",
              "      dtype=object)"
            ]
          },
          "metadata": {
            "tags": []
          },
          "execution_count": 4
        }
      ]
    },
    {
      "cell_type": "code",
      "metadata": {
        "id": "Hn9MBIVj6cc3"
      },
      "source": [
        "db_fraud[\"category\"].replace(['es_transportation', 'es_health', 'es_otherservices', 'es_food',\n",
        "       'es_hotelservices', 'es_barsandrestaurants', 'es_tech',\n",
        "       'es_sportsandtoys', 'es_wellnessandbeauty', 'es_hyper',\n",
        "       'es_fashion', 'es_home', 'es_contents', 'es_travel', 'es_leisure'],['transportation', 'health', 'otherservices', 'food',\n",
        "       'hotelservices', 'barsandrestaurants', 'tech',\n",
        "       'sportsandtoys', 'wellnessandbeauty', 'hyper',\n",
        "       'fashion', 'home', 'contents', 'travel', 'leisure'], inplace=True)"
      ],
      "execution_count": null,
      "outputs": []
    },
    {
      "cell_type": "code",
      "metadata": {
        "id": "H_rNktGs6gU_"
      },
      "source": [
        "db_fraud[\"ageCateg\"] = db_fraud[\"age\"].apply(lambda x: str(x)+' years' if x!=np.NaN else \"Unknown\") #make age a categoric year"
      ],
      "execution_count": null,
      "outputs": []
    },
    {
      "cell_type": "code",
      "metadata": {
        "id": "FXKoHxIj6oAw"
      },
      "source": [
        "def dummies_create(value, data=db_fraud):\n",
        "  x=pd.get_dummies(data[value])\n",
        "  return x\n",
        "a = dummies_create(value=\"gender\").reset_index()\n",
        "b = dummies_create(value=\"category\").reset_index()"
      ],
      "execution_count": null,
      "outputs": []
    },
    {
      "cell_type": "code",
      "metadata": {
        "id": "SzQYj1Qv9UHA"
      },
      "source": [
        "#c = dummies_create(value=\"customer\").reset_index()\n",
        "#d = dummies_create(value=\"merchant\").reset_index()\n",
        "e = dummies_create(value=\"ageCateg\").reset_index()\n",
        " #create dummies of each categorical variable/\n",
        "f = db_fraud[\"amount\"].reset_index()"
      ],
      "execution_count": null,
      "outputs": []
    },
    {
      "cell_type": "code",
      "metadata": {
        "id": "b5uMfm4t7Krf"
      },
      "source": [
        "X = pd.merge(left=a.iloc[:,:-1], right=b.iloc[:,:-1], how=\"inner\", on=\"index\")\n",
        "X = pd.merge(left=X, right=e.iloc[:,:-1], how=\"inner\", on=\"index\")\n",
        "X = pd.merge(left=X, right=f, how=\"inner\", on=\"index\")"
      ],
      "execution_count": null,
      "outputs": []
    },
    {
      "cell_type": "code",
      "metadata": {
        "id": "nHG3fAcf9njP"
      },
      "source": [
        "X.drop(columns=\"index\", inplace=True)"
      ],
      "execution_count": null,
      "outputs": []
    },
    {
      "cell_type": "code",
      "metadata": {
        "colab": {
          "base_uri": "https://localhost:8080/",
          "height": 456
        },
        "id": "rZO4ul0D7ME3",
        "outputId": "162bdb6b-7826-4dcf-9110-f83c1b994c99"
      },
      "source": [
        "X"
      ],
      "execution_count": null,
      "outputs": [
        {
          "output_type": "execute_result",
          "data": {
            "text/html": [
              "<div>\n",
              "<style scoped>\n",
              "    .dataframe tbody tr th:only-of-type {\n",
              "        vertical-align: middle;\n",
              "    }\n",
              "\n",
              "    .dataframe tbody tr th {\n",
              "        vertical-align: top;\n",
              "    }\n",
              "\n",
              "    .dataframe thead th {\n",
              "        text-align: right;\n",
              "    }\n",
              "</style>\n",
              "<table border=\"1\" class=\"dataframe\">\n",
              "  <thead>\n",
              "    <tr style=\"text-align: right;\">\n",
              "      <th></th>\n",
              "      <th>E</th>\n",
              "      <th>F</th>\n",
              "      <th>M</th>\n",
              "      <th>barsandrestaurants</th>\n",
              "      <th>contents</th>\n",
              "      <th>fashion</th>\n",
              "      <th>food</th>\n",
              "      <th>health</th>\n",
              "      <th>home</th>\n",
              "      <th>hotelservices</th>\n",
              "      <th>hyper</th>\n",
              "      <th>leisure</th>\n",
              "      <th>otherservices</th>\n",
              "      <th>sportsandtoys</th>\n",
              "      <th>tech</th>\n",
              "      <th>transportation</th>\n",
              "      <th>travel</th>\n",
              "      <th>0 years</th>\n",
              "      <th>1 years</th>\n",
              "      <th>2 years</th>\n",
              "      <th>3 years</th>\n",
              "      <th>4 years</th>\n",
              "      <th>5 years</th>\n",
              "      <th>6 years</th>\n",
              "      <th>amount</th>\n",
              "    </tr>\n",
              "  </thead>\n",
              "  <tbody>\n",
              "    <tr>\n",
              "      <th>0</th>\n",
              "      <td>0</td>\n",
              "      <td>0</td>\n",
              "      <td>1</td>\n",
              "      <td>0</td>\n",
              "      <td>0</td>\n",
              "      <td>0</td>\n",
              "      <td>0</td>\n",
              "      <td>0</td>\n",
              "      <td>0</td>\n",
              "      <td>0</td>\n",
              "      <td>0</td>\n",
              "      <td>0</td>\n",
              "      <td>0</td>\n",
              "      <td>0</td>\n",
              "      <td>0</td>\n",
              "      <td>1</td>\n",
              "      <td>0</td>\n",
              "      <td>0</td>\n",
              "      <td>0</td>\n",
              "      <td>0</td>\n",
              "      <td>0</td>\n",
              "      <td>1</td>\n",
              "      <td>0</td>\n",
              "      <td>0</td>\n",
              "      <td>4.55</td>\n",
              "    </tr>\n",
              "    <tr>\n",
              "      <th>1</th>\n",
              "      <td>0</td>\n",
              "      <td>0</td>\n",
              "      <td>1</td>\n",
              "      <td>0</td>\n",
              "      <td>0</td>\n",
              "      <td>0</td>\n",
              "      <td>0</td>\n",
              "      <td>0</td>\n",
              "      <td>0</td>\n",
              "      <td>0</td>\n",
              "      <td>0</td>\n",
              "      <td>0</td>\n",
              "      <td>0</td>\n",
              "      <td>0</td>\n",
              "      <td>0</td>\n",
              "      <td>1</td>\n",
              "      <td>0</td>\n",
              "      <td>0</td>\n",
              "      <td>0</td>\n",
              "      <td>1</td>\n",
              "      <td>0</td>\n",
              "      <td>0</td>\n",
              "      <td>0</td>\n",
              "      <td>0</td>\n",
              "      <td>39.68</td>\n",
              "    </tr>\n",
              "    <tr>\n",
              "      <th>2</th>\n",
              "      <td>0</td>\n",
              "      <td>1</td>\n",
              "      <td>0</td>\n",
              "      <td>0</td>\n",
              "      <td>0</td>\n",
              "      <td>0</td>\n",
              "      <td>0</td>\n",
              "      <td>0</td>\n",
              "      <td>0</td>\n",
              "      <td>0</td>\n",
              "      <td>0</td>\n",
              "      <td>0</td>\n",
              "      <td>0</td>\n",
              "      <td>0</td>\n",
              "      <td>0</td>\n",
              "      <td>1</td>\n",
              "      <td>0</td>\n",
              "      <td>0</td>\n",
              "      <td>0</td>\n",
              "      <td>0</td>\n",
              "      <td>0</td>\n",
              "      <td>1</td>\n",
              "      <td>0</td>\n",
              "      <td>0</td>\n",
              "      <td>26.89</td>\n",
              "    </tr>\n",
              "    <tr>\n",
              "      <th>3</th>\n",
              "      <td>0</td>\n",
              "      <td>0</td>\n",
              "      <td>1</td>\n",
              "      <td>0</td>\n",
              "      <td>0</td>\n",
              "      <td>0</td>\n",
              "      <td>0</td>\n",
              "      <td>0</td>\n",
              "      <td>0</td>\n",
              "      <td>0</td>\n",
              "      <td>0</td>\n",
              "      <td>0</td>\n",
              "      <td>0</td>\n",
              "      <td>0</td>\n",
              "      <td>0</td>\n",
              "      <td>1</td>\n",
              "      <td>0</td>\n",
              "      <td>0</td>\n",
              "      <td>0</td>\n",
              "      <td>0</td>\n",
              "      <td>1</td>\n",
              "      <td>0</td>\n",
              "      <td>0</td>\n",
              "      <td>0</td>\n",
              "      <td>17.25</td>\n",
              "    </tr>\n",
              "    <tr>\n",
              "      <th>4</th>\n",
              "      <td>0</td>\n",
              "      <td>0</td>\n",
              "      <td>1</td>\n",
              "      <td>0</td>\n",
              "      <td>0</td>\n",
              "      <td>0</td>\n",
              "      <td>0</td>\n",
              "      <td>0</td>\n",
              "      <td>0</td>\n",
              "      <td>0</td>\n",
              "      <td>0</td>\n",
              "      <td>0</td>\n",
              "      <td>0</td>\n",
              "      <td>0</td>\n",
              "      <td>0</td>\n",
              "      <td>1</td>\n",
              "      <td>0</td>\n",
              "      <td>0</td>\n",
              "      <td>0</td>\n",
              "      <td>0</td>\n",
              "      <td>0</td>\n",
              "      <td>0</td>\n",
              "      <td>1</td>\n",
              "      <td>0</td>\n",
              "      <td>35.72</td>\n",
              "    </tr>\n",
              "    <tr>\n",
              "      <th>...</th>\n",
              "      <td>...</td>\n",
              "      <td>...</td>\n",
              "      <td>...</td>\n",
              "      <td>...</td>\n",
              "      <td>...</td>\n",
              "      <td>...</td>\n",
              "      <td>...</td>\n",
              "      <td>...</td>\n",
              "      <td>...</td>\n",
              "      <td>...</td>\n",
              "      <td>...</td>\n",
              "      <td>...</td>\n",
              "      <td>...</td>\n",
              "      <td>...</td>\n",
              "      <td>...</td>\n",
              "      <td>...</td>\n",
              "      <td>...</td>\n",
              "      <td>...</td>\n",
              "      <td>...</td>\n",
              "      <td>...</td>\n",
              "      <td>...</td>\n",
              "      <td>...</td>\n",
              "      <td>...</td>\n",
              "      <td>...</td>\n",
              "      <td>...</td>\n",
              "    </tr>\n",
              "    <tr>\n",
              "      <th>594638</th>\n",
              "      <td>0</td>\n",
              "      <td>1</td>\n",
              "      <td>0</td>\n",
              "      <td>0</td>\n",
              "      <td>0</td>\n",
              "      <td>0</td>\n",
              "      <td>0</td>\n",
              "      <td>0</td>\n",
              "      <td>0</td>\n",
              "      <td>0</td>\n",
              "      <td>0</td>\n",
              "      <td>0</td>\n",
              "      <td>0</td>\n",
              "      <td>0</td>\n",
              "      <td>0</td>\n",
              "      <td>1</td>\n",
              "      <td>0</td>\n",
              "      <td>0</td>\n",
              "      <td>0</td>\n",
              "      <td>0</td>\n",
              "      <td>1</td>\n",
              "      <td>0</td>\n",
              "      <td>0</td>\n",
              "      <td>0</td>\n",
              "      <td>20.53</td>\n",
              "    </tr>\n",
              "    <tr>\n",
              "      <th>594639</th>\n",
              "      <td>0</td>\n",
              "      <td>1</td>\n",
              "      <td>0</td>\n",
              "      <td>0</td>\n",
              "      <td>0</td>\n",
              "      <td>0</td>\n",
              "      <td>0</td>\n",
              "      <td>0</td>\n",
              "      <td>0</td>\n",
              "      <td>0</td>\n",
              "      <td>0</td>\n",
              "      <td>0</td>\n",
              "      <td>0</td>\n",
              "      <td>0</td>\n",
              "      <td>0</td>\n",
              "      <td>1</td>\n",
              "      <td>0</td>\n",
              "      <td>0</td>\n",
              "      <td>0</td>\n",
              "      <td>0</td>\n",
              "      <td>0</td>\n",
              "      <td>1</td>\n",
              "      <td>0</td>\n",
              "      <td>0</td>\n",
              "      <td>50.73</td>\n",
              "    </tr>\n",
              "    <tr>\n",
              "      <th>594640</th>\n",
              "      <td>0</td>\n",
              "      <td>1</td>\n",
              "      <td>0</td>\n",
              "      <td>0</td>\n",
              "      <td>0</td>\n",
              "      <td>1</td>\n",
              "      <td>0</td>\n",
              "      <td>0</td>\n",
              "      <td>0</td>\n",
              "      <td>0</td>\n",
              "      <td>0</td>\n",
              "      <td>0</td>\n",
              "      <td>0</td>\n",
              "      <td>0</td>\n",
              "      <td>0</td>\n",
              "      <td>0</td>\n",
              "      <td>0</td>\n",
              "      <td>0</td>\n",
              "      <td>0</td>\n",
              "      <td>1</td>\n",
              "      <td>0</td>\n",
              "      <td>0</td>\n",
              "      <td>0</td>\n",
              "      <td>0</td>\n",
              "      <td>22.44</td>\n",
              "    </tr>\n",
              "    <tr>\n",
              "      <th>594641</th>\n",
              "      <td>0</td>\n",
              "      <td>0</td>\n",
              "      <td>1</td>\n",
              "      <td>0</td>\n",
              "      <td>0</td>\n",
              "      <td>0</td>\n",
              "      <td>0</td>\n",
              "      <td>0</td>\n",
              "      <td>0</td>\n",
              "      <td>0</td>\n",
              "      <td>0</td>\n",
              "      <td>0</td>\n",
              "      <td>0</td>\n",
              "      <td>0</td>\n",
              "      <td>0</td>\n",
              "      <td>1</td>\n",
              "      <td>0</td>\n",
              "      <td>0</td>\n",
              "      <td>0</td>\n",
              "      <td>0</td>\n",
              "      <td>0</td>\n",
              "      <td>0</td>\n",
              "      <td>1</td>\n",
              "      <td>0</td>\n",
              "      <td>14.46</td>\n",
              "    </tr>\n",
              "    <tr>\n",
              "      <th>594642</th>\n",
              "      <td>0</td>\n",
              "      <td>1</td>\n",
              "      <td>0</td>\n",
              "      <td>0</td>\n",
              "      <td>0</td>\n",
              "      <td>0</td>\n",
              "      <td>0</td>\n",
              "      <td>0</td>\n",
              "      <td>0</td>\n",
              "      <td>0</td>\n",
              "      <td>0</td>\n",
              "      <td>0</td>\n",
              "      <td>0</td>\n",
              "      <td>0</td>\n",
              "      <td>0</td>\n",
              "      <td>1</td>\n",
              "      <td>0</td>\n",
              "      <td>0</td>\n",
              "      <td>0</td>\n",
              "      <td>0</td>\n",
              "      <td>0</td>\n",
              "      <td>1</td>\n",
              "      <td>0</td>\n",
              "      <td>0</td>\n",
              "      <td>26.93</td>\n",
              "    </tr>\n",
              "  </tbody>\n",
              "</table>\n",
              "<p>594643 rows × 25 columns</p>\n",
              "</div>"
            ],
            "text/plain": [
              "        E  F  M  barsandrestaurants  ...  4 years  5 years  6 years  amount\n",
              "0       0  0  1                   0  ...        1        0        0    4.55\n",
              "1       0  0  1                   0  ...        0        0        0   39.68\n",
              "2       0  1  0                   0  ...        1        0        0   26.89\n",
              "3       0  0  1                   0  ...        0        0        0   17.25\n",
              "4       0  0  1                   0  ...        0        1        0   35.72\n",
              "...    .. .. ..                 ...  ...      ...      ...      ...     ...\n",
              "594638  0  1  0                   0  ...        0        0        0   20.53\n",
              "594639  0  1  0                   0  ...        1        0        0   50.73\n",
              "594640  0  1  0                   0  ...        0        0        0   22.44\n",
              "594641  0  0  1                   0  ...        0        1        0   14.46\n",
              "594642  0  1  0                   0  ...        1        0        0   26.93\n",
              "\n",
              "[594643 rows x 25 columns]"
            ]
          },
          "metadata": {
            "tags": []
          },
          "execution_count": 11
        }
      ]
    },
    {
      "cell_type": "code",
      "metadata": {
        "id": "eEBWYc-K_9P3"
      },
      "source": [
        "y = db_fraud[\"fraud\"]"
      ],
      "execution_count": null,
      "outputs": []
    },
    {
      "cell_type": "code",
      "metadata": {
        "id": "i3_eScR2_kiX"
      },
      "source": [
        "#from sklearn.cross_validation import train_test_split\n",
        "X_train,X_test,y_train,y_test=train_test_split(X,y,test_size=0.25,random_state=0)"
      ],
      "execution_count": null,
      "outputs": []
    },
    {
      "cell_type": "markdown",
      "metadata": {
        "id": "NRe-nJIIp37Z"
      },
      "source": [
        "Splitting Data\n",
        "To understand model performance, dividing the dataset into a training set and a test set is a good strategy."
      ]
    },
    {
      "cell_type": "code",
      "metadata": {
        "colab": {
          "base_uri": "https://localhost:8080/"
        },
        "id": "QJykEbAA_YA5",
        "outputId": "98aa0f80-8aeb-48af-8d12-782b10222a52"
      },
      "source": [
        " #instantiate the model (using the default parameters)\n",
        "logreg = LogisticRegression()\n",
        "\n",
        "# fit the model with data\n",
        "logreg.fit(X_train,y_train)\n",
        "\n",
        "#\n",
        "y_pred=logreg.predict(X_test)"
      ],
      "execution_count": null,
      "outputs": [
        {
          "output_type": "stream",
          "text": [
            "/usr/local/lib/python3.7/dist-packages/sklearn/linear_model/_logistic.py:940: ConvergenceWarning: lbfgs failed to converge (status=1):\n",
            "STOP: TOTAL NO. of ITERATIONS REACHED LIMIT.\n",
            "\n",
            "Increase the number of iterations (max_iter) or scale the data as shown in:\n",
            "    https://scikit-learn.org/stable/modules/preprocessing.html\n",
            "Please also refer to the documentation for alternative solver options:\n",
            "    https://scikit-learn.org/stable/modules/linear_model.html#logistic-regression\n",
            "  extra_warning_msg=_LOGISTIC_SOLVER_CONVERGENCE_MSG)\n"
          ],
          "name": "stderr"
        }
      ]
    },
    {
      "cell_type": "markdown",
      "metadata": {
        "id": "M6rsGb4Ep6ub"
      },
      "source": [
        "Here, the Dataset is broken into two parts in a ratio of 75:25. It means 75% data will be used for model training and 25% for model testing."
      ]
    },
    {
      "cell_type": "code",
      "metadata": {
        "colab": {
          "base_uri": "https://localhost:8080/"
        },
        "id": "ewIb6GyOANZw",
        "outputId": "0697330d-6099-4102-99dc-d6397ef14ad8"
      },
      "source": [
        "cnf_matrix = metrics.confusion_matrix(y_test, y_pred)\n",
        "cnf_matrix"
      ],
      "execution_count": null,
      "outputs": [
        {
          "output_type": "execute_result",
          "data": {
            "text/plain": [
              "array([[146750,    115],\n",
              "       [   754,   1042]])"
            ]
          },
          "metadata": {
            "tags": []
          },
          "execution_count": 17
        }
      ]
    },
    {
      "cell_type": "code",
      "metadata": {
        "id": "N3kA-AY2AvgR"
      },
      "source": [
        "%matplotlib inline"
      ],
      "execution_count": null,
      "outputs": []
    },
    {
      "cell_type": "code",
      "metadata": {
        "colab": {
          "base_uri": "https://localhost:8080/",
          "height": 344
        },
        "id": "d7nv1hcuA1jn",
        "outputId": "32548612-bdf3-4824-b3ce-7b26c5aee306"
      },
      "source": [
        "class_names=[0,1] # name  of classes\n",
        "fig, ax = plt.subplots()\n",
        "tick_marks = np.arange(len(class_names))\n",
        "plt.xticks(tick_marks, class_names)\n",
        "plt.yticks(tick_marks, class_names)\n",
        "# create heatmap\n",
        "sns.heatmap(pd.DataFrame(cnf_matrix), annot=True, cmap=\"YlGnBu\" ,fmt='g')\n",
        "ax.xaxis.set_label_position(\"top\")\n",
        "plt.tight_layout()\n",
        "plt.title('Confusion matrix', y=1.1)\n",
        "plt.ylabel('Actual label')\n",
        "plt.xlabel('Predicted label')\n",
        "#Text(0.5,257.44,'Predicted label')"
      ],
      "execution_count": null,
      "outputs": [
        {
          "output_type": "execute_result",
          "data": {
            "text/plain": [
              "Text(0.5, 257.44, 'Predicted label')"
            ]
          },
          "metadata": {
            "tags": []
          },
          "execution_count": 19
        },
        {
          "output_type": "display_data",
          "data": {
            "image/png": "[encoded data removed]",
            "text/plain": [
              "<Figure size 432x288 with 2 Axes>"
            ]
          },
          "metadata": {
            "tags": [],
            "needs_background": "light"
          }
        }
      ]
    },
    {
      "cell_type": "markdown",
      "metadata": {
        "id": "sqdkrhSnqNAB"
      },
      "source": [
        "Here, you can see the confusion matrix in the form of the array object. The dimension of this matrix is 2*2 because this model is binary classification. You have two classes 0 and 1. Diagonal values represent accurate predictions, while non-diagonal elements are inaccurate predictions. In the output, 146 750 and 1042 are actual predictions, and 115 and 754 are incorrect predictions."
      ]
    },
    {
      "cell_type": "code",
      "metadata": {
        "colab": {
          "base_uri": "https://localhost:8080/"
        },
        "id": "cdfv3WK8BLAR",
        "outputId": "0efc03ac-9493-42f8-b242-14b9e8388ec8"
      },
      "source": [
        "print(\"Accuracy:\",metrics.accuracy_score(y_test, y_pred))\n",
        "print(\"Precision:\",metrics.precision_score(y_test, y_pred))\n",
        "print(\"Recall:\",metrics.recall_score(y_test, y_pred))"
      ],
      "execution_count": null,
      "outputs": [
        {
          "output_type": "stream",
          "text": [
            "Accuracy: 0.9941544857090965\n",
            "Precision: 0.9006050129645635\n",
            "Recall: 0.5801781737193764\n"
          ],
          "name": "stdout"
        }
      ]
    },
    {
      "cell_type": "markdown",
      "metadata": {
        "id": "D_vGKS1OrTca"
      },
      "source": [
        "Well, we go a classification rate of 99%, considered as good accuracy"
      ]
    },
    {
      "cell_type": "markdown",
      "metadata": {
        "id": "917UnEByrQlw"
      },
      "source": [
        "In the prediction case,  when your Logistic Regression model predicted transactions are going to be fraudulent, that transactions have 90% of the time."
      ]
    },
    {
      "cell_type": "code",
      "metadata": {
        "colab": {
          "base_uri": "https://localhost:8080/",
          "height": 268
        },
        "id": "83vhKoAYBUiI",
        "outputId": "02d14fe0-218f-4688-961f-8566667cc697"
      },
      "source": [
        "y_pred_proba = logreg.predict_proba(X_test)[::,1]\n",
        "fpr, tpr, _ = metrics.roc_curve(y_test,  y_pred_proba)\n",
        "auc = metrics.roc_auc_score(y_test, y_pred_proba)\n",
        "plt.plot(fpr,tpr,label=\"data 1, auc=\"+str(auc))\n",
        "plt.legend(loc=4)\n",
        "plt.show()"
      ],
      "execution_count": null,
      "outputs": [
        {
          "output_type": "display_data",
          "data": {
            "image/png": "[encoded data removed]",
            "text/plain": [
              "<Figure size 432x288 with 1 Axes>"
            ]
          },
          "metadata": {
            "tags": [],
            "needs_background": "light"
          }
        }
      ]
    },
    {
      "cell_type": "code",
      "metadata": {
        "colab": {
          "base_uri": "https://localhost:8080/"
        },
        "id": "NC3M_iwzyIRE",
        "outputId": "dada002b-bb65-4779-c579-db2f3f36fee6"
      },
      "source": [
        "import statsmodels.api as sm\n",
        "#X = df_final.drop(columns=[\"y\"])\n",
        "#y = df_final[[\"y\"]]\n",
        "log_reg = sm.Logit(y,X).fit()\n",
        "print(log_reg.summary())"
      ],
      "execution_count": null,
      "outputs": [
        {
          "output_type": "stream",
          "text": [
            "/usr/local/lib/python3.7/dist-packages/statsmodels/tools/_testing.py:19: FutureWarning: pandas.util.testing is deprecated. Use the functions in the public API at pandas.testing instead.\n",
            "  import pandas.util.testing as tm\n"
          ],
          "name": "stderr"
        },
        {
          "output_type": "stream",
          "text": [
            "Warning: Maximum number of iterations has been exceeded.\n",
            "         Current function value: 0.018242\n",
            "         Iterations: 35\n"
          ],
          "name": "stdout"
        },
        {
          "output_type": "stream",
          "text": [
            "/usr/local/lib/python3.7/dist-packages/statsmodels/base/model.py:512: ConvergenceWarning: Maximum Likelihood optimization failed to converge. Check mle_retvals\n",
            "  \"Check mle_retvals\", ConvergenceWarning)\n"
          ],
          "name": "stderr"
        },
        {
          "output_type": "stream",
          "text": [
            "                           Logit Regression Results                           \n",
            "==============================================================================\n",
            "Dep. Variable:                  fraud   No. Observations:               594643\n",
            "Model:                          Logit   Df Residuals:                   594618\n",
            "Method:                           MLE   Df Model:                           24\n",
            "Date:                Sat, 03 Jul 2021   Pseudo R-squ.:                  0.7214\n",
            "Time:                        19:44:13   Log-Likelihood:                -10847.\n",
            "converged:                      False   LL-Null:                       -38936.\n",
            "Covariance Type:            nonrobust   LLR p-value:                     0.000\n",
            "======================================================================================\n",
            "                         coef    std err          z      P>|z|      [0.025      0.975]\n",
            "--------------------------------------------------------------------------------------\n",
            "E                     -5.5865      0.517    -10.811      0.000      -6.599      -4.574\n",
            "F                     12.9691    398.962      0.033      0.974    -768.982     794.921\n",
            "M                     12.5120    398.962      0.031      0.975    -769.439     794.463\n",
            "barsandrestaurants    -0.4378      0.106     -4.149      0.000      -0.645      -0.231\n",
            "contents             -15.6416    509.126     -0.031      0.975   -1013.510     982.226\n",
            "fashion               -1.0233      0.111     -9.205      0.000      -1.241      -0.805\n",
            "food                 -16.9301    191.063     -0.089      0.929    -391.406     357.546\n",
            "health                -0.4621      0.058     -7.916      0.000      -0.576      -0.348\n",
            "home                  -0.3010      0.101     -2.966      0.003      -0.500      -0.102\n",
            "hotelservices          0.8680      0.086     10.058      0.000       0.699       1.037\n",
            "hyper                  0.4185      0.078      5.339      0.000       0.265       0.572\n",
            "leisure                4.0951      0.226     18.118      0.000       3.652       4.538\n",
            "otherservices          1.2275      0.109     11.257      0.000       1.014       1.441\n",
            "sportsandtoys          2.0139      0.061     33.066      0.000       1.895       2.133\n",
            "tech                  -0.9022      0.119     -7.561      0.000      -1.136      -0.668\n",
            "transportation       -22.3206    703.697     -0.032      0.975   -1401.542    1356.901\n",
            "travel                -4.1788      0.263    -15.866      0.000      -4.695      -3.663\n",
            "0 years              -17.4259    398.962     -0.044      0.965    -799.377     764.526\n",
            "1 years              -17.1133    398.962     -0.043      0.966    -799.065     764.838\n",
            "2 years              -17.0574    398.962     -0.043      0.966    -799.009     764.894\n",
            "3 years              -17.1466    398.962     -0.043      0.966    -799.098     764.805\n",
            "4 years              -17.0866    398.962     -0.043      0.966    -799.038     764.865\n",
            "5 years              -17.1248    398.962     -0.043      0.966    -799.076     764.827\n",
            "6 years              -17.3448    398.962     -0.043      0.965    -799.296     764.607\n",
            "amount                 0.0137      0.000     72.157      0.000       0.013       0.014\n",
            "======================================================================================\n",
            "\n",
            "Possibly complete quasi-separation: A fraction 0.90 of observations can be\n",
            "perfectly predicted. This might indicate that there is complete\n",
            "quasi-separation. In this case some parameters will not be identified.\n"
          ],
          "name": "stdout"
        }
      ]
    },
    {
      "cell_type": "markdown",
      "metadata": {
        "id": "jMtMDtAF4Nzj"
      },
      "source": [
        "The LLR p value that could be compared to fisher test is 0.000 inferior to zero, we reject the hypothesis that the restricted model performs better. and prefer the full model over the null model."
      ]
    },
    {
      "cell_type": "markdown",
      "metadata": {
        "id": "wPe-jV3K_vCr"
      },
      "source": [
        "The significative variables are: Entreprise status, bar and restaurants service card usage, travel, health, home, hotelservices, hyper, leisure,otherservices,  sportsandtoys, tech and amount."
      ]
    },
    {
      "cell_type": "code",
      "metadata": {
        "colab": {
          "base_uri": "https://localhost:8080/"
        },
        "id": "BcVlrTMz5rg6",
        "outputId": "dc6eaf46-6903-4896-8dea-8f30d2bde9f4"
      },
      "source": [
        "X1 = X.reset_index()\n",
        "y1 = y.reset_index()\n",
        "db_final = pd.merge(left=X1, right=y1, on=\"index\", how=\"inner\")\n",
        "db_final.info"
      ],
      "execution_count": null,
      "outputs": [
        {
          "output_type": "execute_result",
          "data": {
            "text/plain": [
              "<bound method DataFrame.info of          index  E  F  M  ...  5 years  6 years  amount  fraud\n",
              "0            0  0  0  1  ...        0        0    4.55      0\n",
              "1            1  0  0  1  ...        0        0   39.68      0\n",
              "2            2  0  1  0  ...        0        0   26.89      0\n",
              "3            3  0  0  1  ...        0        0   17.25      0\n",
              "4            4  0  0  1  ...        1        0   35.72      0\n",
              "...        ... .. .. ..  ...      ...      ...     ...    ...\n",
              "594638  594638  0  1  0  ...        0        0   20.53      0\n",
              "594639  594639  0  1  0  ...        0        0   50.73      0\n",
              "594640  594640  0  1  0  ...        0        0   22.44      0\n",
              "594641  594641  0  0  1  ...        1        0   14.46      0\n",
              "594642  594642  0  1  0  ...        0        0   26.93      0\n",
              "\n",
              "[594643 rows x 27 columns]>"
            ]
          },
          "metadata": {
            "tags": []
          },
          "execution_count": 25
        }
      ]
    }
  ]
}