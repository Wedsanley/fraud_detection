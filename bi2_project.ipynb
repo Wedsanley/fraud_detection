{
  "nbformat": 4,
  "nbformat_minor": 0,
  "metadata": {
    "colab": {
      "name": "bi2_project.ipynb",
      "provenance": []
    },
    "kernelspec": {
      "name": "python3",
      "display_name": "Python 3"
    },
    "language_info": {
      "name": "python"
    }
  },
  "cells": [
    {
      "cell_type": "code",
      "metadata": {
        "id": "r5Ki4dJKNWiC"
      },
      "source": [
        "import pandas as pd\n",
        "import matplotlib.pyplot as plt\n",
        "import numpy as np\n",
        "import re as re\n",
        "import seaborn as sns\n",
        "from scipy.stats import chi2_contingency"
      ],
      "execution_count": 113,
      "outputs": []
    },
    {
      "cell_type": "markdown",
      "metadata": {
        "id": "BzBrMS4UNfQ4"
      },
      "source": [
        "# Data processing"
      ]
    },
    {
      "cell_type": "code",
      "metadata": {
        "colab": {
          "base_uri": "https://localhost:8080/",
          "height": 173
        },
        "id": "P8MpuVgGzpyj",
        "outputId": "22685cc7-a4f6-4b1b-c9b3-2add715fe796"
      },
      "source": [
        "db_fraud = pd.read_csv(r\"bs140513_032310.csv\")\n",
        "db_fraud.head(4)             #import and read the datafile"
      ],
      "execution_count": 114,
      "outputs": [
        {
          "output_type": "execute_result",
          "data": {
            "text/html": [
              "<div>\n",
              "<style scoped>\n",
              "    .dataframe tbody tr th:only-of-type {\n",
              "        vertical-align: middle;\n",
              "    }\n",
              "\n",
              "    .dataframe tbody tr th {\n",
              "        vertical-align: top;\n",
              "    }\n",
              "\n",
              "    .dataframe thead th {\n",
              "        text-align: right;\n",
              "    }\n",
              "</style>\n",
              "<table border=\"1\" class=\"dataframe\">\n",
              "  <thead>\n",
              "    <tr style=\"text-align: right;\">\n",
              "      <th></th>\n",
              "      <th>step</th>\n",
              "      <th>customer</th>\n",
              "      <th>age</th>\n",
              "      <th>gender</th>\n",
              "      <th>zipcodeOri</th>\n",
              "      <th>merchant</th>\n",
              "      <th>zipMerchant</th>\n",
              "      <th>category</th>\n",
              "      <th>amount</th>\n",
              "      <th>fraud</th>\n",
              "    </tr>\n",
              "  </thead>\n",
              "  <tbody>\n",
              "    <tr>\n",
              "      <th>0</th>\n",
              "      <td>0</td>\n",
              "      <td>'C1093826151'</td>\n",
              "      <td>'4'</td>\n",
              "      <td>'M'</td>\n",
              "      <td>'28007'</td>\n",
              "      <td>'M348934600'</td>\n",
              "      <td>'28007'</td>\n",
              "      <td>'es_transportation'</td>\n",
              "      <td>4.55</td>\n",
              "      <td>0</td>\n",
              "    </tr>\n",
              "    <tr>\n",
              "      <th>1</th>\n",
              "      <td>0</td>\n",
              "      <td>'C352968107'</td>\n",
              "      <td>'2'</td>\n",
              "      <td>'M'</td>\n",
              "      <td>'28007'</td>\n",
              "      <td>'M348934600'</td>\n",
              "      <td>'28007'</td>\n",
              "      <td>'es_transportation'</td>\n",
              "      <td>39.68</td>\n",
              "      <td>0</td>\n",
              "    </tr>\n",
              "    <tr>\n",
              "      <th>2</th>\n",
              "      <td>0</td>\n",
              "      <td>'C2054744914'</td>\n",
              "      <td>'4'</td>\n",
              "      <td>'F'</td>\n",
              "      <td>'28007'</td>\n",
              "      <td>'M1823072687'</td>\n",
              "      <td>'28007'</td>\n",
              "      <td>'es_transportation'</td>\n",
              "      <td>26.89</td>\n",
              "      <td>0</td>\n",
              "    </tr>\n",
              "    <tr>\n",
              "      <th>3</th>\n",
              "      <td>0</td>\n",
              "      <td>'C1760612790'</td>\n",
              "      <td>'3'</td>\n",
              "      <td>'M'</td>\n",
              "      <td>'28007'</td>\n",
              "      <td>'M348934600'</td>\n",
              "      <td>'28007'</td>\n",
              "      <td>'es_transportation'</td>\n",
              "      <td>17.25</td>\n",
              "      <td>0</td>\n",
              "    </tr>\n",
              "  </tbody>\n",
              "</table>\n",
              "</div>"
            ],
            "text/plain": [
              "   step       customer  age  ...             category amount fraud\n",
              "0     0  'C1093826151'  '4'  ...  'es_transportation'   4.55     0\n",
              "1     0   'C352968107'  '2'  ...  'es_transportation'  39.68     0\n",
              "2     0  'C2054744914'  '4'  ...  'es_transportation'  26.89     0\n",
              "3     0  'C1760612790'  '3'  ...  'es_transportation'  17.25     0\n",
              "\n",
              "[4 rows x 10 columns]"
            ]
          },
          "metadata": {
            "tags": []
          },
          "execution_count": 114
        }
      ]
    },
    {
      "cell_type": "code",
      "metadata": {
        "colab": {
          "base_uri": "https://localhost:8080/"
        },
        "id": "L_YklMrRKqQ1",
        "outputId": "cfa4f8ab-82be-4538-bb28-3d885146c872"
      },
      "source": [
        "db_fraud.drop([\"zipcodeOri\", \"zipMerchant\"], axis=1, inplace=True)\n",
        "db_fraud.shape        #remove the zipcodes, they're unique"
      ],
      "execution_count": 115,
      "outputs": [
        {
          "output_type": "execute_result",
          "data": {
            "text/plain": [
              "(594643, 8)"
            ]
          },
          "metadata": {
            "tags": []
          },
          "execution_count": 115
        }
      ]
    },
    {
      "cell_type": "code",
      "metadata": {
        "colab": {
          "base_uri": "https://localhost:8080/"
        },
        "id": "zFbfGpGtHPYU",
        "outputId": "340e68a3-4281-48d2-aa6b-0b21b8e9c592"
      },
      "source": [
        "db_fraud.category.unique()"
      ],
      "execution_count": 116,
      "outputs": [
        {
          "output_type": "execute_result",
          "data": {
            "text/plain": [
              "array([\"'es_transportation'\", \"'es_health'\", \"'es_otherservices'\",\n",
              "       \"'es_food'\", \"'es_hotelservices'\", \"'es_barsandrestaurants'\",\n",
              "       \"'es_tech'\", \"'es_sportsandtoys'\", \"'es_wellnessandbeauty'\",\n",
              "       \"'es_hyper'\", \"'es_fashion'\", \"'es_home'\", \"'es_contents'\",\n",
              "       \"'es_travel'\", \"'es_leisure'\"], dtype=object)"
            ]
          },
          "metadata": {
            "tags": []
          },
          "execution_count": 116
        }
      ]
    },
    {
      "cell_type": "code",
      "metadata": {
        "id": "Jk5FArhZFTOm",
        "colab": {
          "base_uri": "https://localhost:8080/"
        },
        "outputId": "70bdc806-7a9f-4538-c1dc-cf6aa2624686"
      },
      "source": [
        "cols = [\"customer\", \"age\", \"gender\", \"merchant\",\"category\"]\n",
        "for col in cols:\n",
        "    db_fraud[col]= db_fraud[col].apply(lambda x: x.replace('\\'','')) #remove quotes from the columns\n",
        "db_fraud.head(3)\n",
        "db_fraud[\"category\"].replace({\"es_transportatio\": \"es_transportation\"}, inplace=True) #correct the transavtion\n",
        "#db_fraud[\"category\"].replace(,[new_value1, new_value2, new_value3])\n",
        "db_fraud.category.unique()"
      ],
      "execution_count": 117,
      "outputs": [
        {
          "output_type": "execute_result",
          "data": {
            "text/plain": [
              "array(['es_transportation', 'es_health', 'es_otherservices', 'es_food',\n",
              "       'es_hotelservices', 'es_barsandrestaurants', 'es_tech',\n",
              "       'es_sportsandtoys', 'es_wellnessandbeauty', 'es_hyper',\n",
              "       'es_fashion', 'es_home', 'es_contents', 'es_travel', 'es_leisure'],\n",
              "      dtype=object)"
            ]
          },
          "metadata": {
            "tags": []
          },
          "execution_count": 117
        }
      ]
    },
    {
      "cell_type": "code",
      "metadata": {
        "id": "MlmiErtgH7J2"
      },
      "source": [
        "db_fraud[\"category\"].replace(['es_transportation', 'es_health', 'es_otherservices', 'es_food',\n",
        "       'es_hotelservices', 'es_barsandrestaurants', 'es_tech',\n",
        "       'es_sportsandtoys', 'es_wellnessandbeauty', 'es_hyper',\n",
        "       'es_fashion', 'es_home', 'es_contents', 'es_travel', 'es_leisure'],['transportation', 'health', 'otherservices', 'food',\n",
        "       'hotelservices', 'barsandrestaurants', 'tech',\n",
        "       'sportsandtoys', 'wellnessandbeauty', 'hyper',\n",
        "       'fashion', 'home', 'contents', 'travel', 'leisure'], inplace=True)"
      ],
      "execution_count": 118,
      "outputs": []
    },
    {
      "cell_type": "code",
      "metadata": {
        "colab": {
          "base_uri": "https://localhost:8080/",
          "height": 304
        },
        "id": "nF10Q3eGUKAx",
        "outputId": "90324c6e-b4fa-4b06-b108-9f53f7b9d637"
      },
      "source": [
        "db_fraud.info()\n",
        "db_fraud[db_fraud.category.isna()==True]"
      ],
      "execution_count": 119,
      "outputs": [
        {
          "output_type": "stream",
          "text": [
            "<class 'pandas.core.frame.DataFrame'>\n",
            "RangeIndex: 594643 entries, 0 to 594642\n",
            "Data columns (total 8 columns):\n",
            " #   Column    Non-Null Count   Dtype  \n",
            "---  ------    --------------   -----  \n",
            " 0   step      594643 non-null  int64  \n",
            " 1   customer  594643 non-null  object \n",
            " 2   age       594643 non-null  object \n",
            " 3   gender    594643 non-null  object \n",
            " 4   merchant  594643 non-null  object \n",
            " 5   category  594643 non-null  object \n",
            " 6   amount    594643 non-null  float64\n",
            " 7   fraud     594643 non-null  int64  \n",
            "dtypes: float64(1), int64(2), object(5)\n",
            "memory usage: 36.3+ MB\n"
          ],
          "name": "stdout"
        },
        {
          "output_type": "execute_result",
          "data": {
            "text/html": [
              "<div>\n",
              "<style scoped>\n",
              "    .dataframe tbody tr th:only-of-type {\n",
              "        vertical-align: middle;\n",
              "    }\n",
              "\n",
              "    .dataframe tbody tr th {\n",
              "        vertical-align: top;\n",
              "    }\n",
              "\n",
              "    .dataframe thead th {\n",
              "        text-align: right;\n",
              "    }\n",
              "</style>\n",
              "<table border=\"1\" class=\"dataframe\">\n",
              "  <thead>\n",
              "    <tr style=\"text-align: right;\">\n",
              "      <th></th>\n",
              "      <th>step</th>\n",
              "      <th>customer</th>\n",
              "      <th>age</th>\n",
              "      <th>gender</th>\n",
              "      <th>merchant</th>\n",
              "      <th>category</th>\n",
              "      <th>amount</th>\n",
              "      <th>fraud</th>\n",
              "    </tr>\n",
              "  </thead>\n",
              "  <tbody>\n",
              "  </tbody>\n",
              "</table>\n",
              "</div>"
            ],
            "text/plain": [
              "Empty DataFrame\n",
              "Columns: [step, customer, age, gender, merchant, category, amount, fraud]\n",
              "Index: []"
            ]
          },
          "metadata": {
            "tags": []
          },
          "execution_count": 119
        }
      ]
    },
    {
      "cell_type": "code",
      "metadata": {
        "colab": {
          "base_uri": "https://localhost:8080/"
        },
        "id": "3VnwQBQJO_on",
        "outputId": "ab311dd1-ba3f-4838-ebdc-602bd16386db"
      },
      "source": [
        "for col in db_fraud.columns:\n",
        "  data = db_fraud[col].nunique()\n",
        "  print(f\"{col} has {data} differents modalities.\\n\")"
      ],
      "execution_count": 120,
      "outputs": [
        {
          "output_type": "stream",
          "text": [
            "step has 180 differents modalities.\n",
            "\n",
            "customer has 4112 differents modalities.\n",
            "\n",
            "age has 8 differents modalities.\n",
            "\n",
            "gender has 4 differents modalities.\n",
            "\n",
            "merchant has 50 differents modalities.\n",
            "\n",
            "category has 15 differents modalities.\n",
            "\n",
            "amount has 23767 differents modalities.\n",
            "\n",
            "fraud has 2 differents modalities.\n",
            "\n"
          ],
          "name": "stdout"
        }
      ]
    },
    {
      "cell_type": "code",
      "metadata": {
        "id": "vc-NTRVcBT54"
      },
      "source": [
        "#db_fraud[\"fraud\"] = db_fraud[\"fraud\"].apply(lambda x: \"1\" if x==1 else \"0\")"
      ],
      "execution_count": 121,
      "outputs": []
    },
    {
      "cell_type": "code",
      "metadata": {
        "id": "E_-hQjCJLrOY"
      },
      "source": [
        "#db_fraud[\"age\"] = db_fraud[\"age\"].apply(lambda x: int(x) if x!=\"U\" else np.NaN) #correct the type of age\n",
        "db_fraud[\"ageCateg\"] = db_fraud[\"age\"].apply(lambda x: str(x)+' years' if x!=np.NaN else \"Unknown\") #make age a categoric year"
      ],
      "execution_count": 122,
      "outputs": []
    },
    {
      "cell_type": "code",
      "metadata": {
        "colab": {
          "base_uri": "https://localhost:8080/",
          "height": 390
        },
        "id": "sZFVUStkQLGe",
        "outputId": "bf343b3b-8262-494d-9b95-7909851269f9"
      },
      "source": [
        "db_fraud.describe(include=\"all\")"
      ],
      "execution_count": 123,
      "outputs": [
        {
          "output_type": "execute_result",
          "data": {
            "text/html": [
              "<div>\n",
              "<style scoped>\n",
              "    .dataframe tbody tr th:only-of-type {\n",
              "        vertical-align: middle;\n",
              "    }\n",
              "\n",
              "    .dataframe tbody tr th {\n",
              "        vertical-align: top;\n",
              "    }\n",
              "\n",
              "    .dataframe thead th {\n",
              "        text-align: right;\n",
              "    }\n",
              "</style>\n",
              "<table border=\"1\" class=\"dataframe\">\n",
              "  <thead>\n",
              "    <tr style=\"text-align: right;\">\n",
              "      <th></th>\n",
              "      <th>step</th>\n",
              "      <th>customer</th>\n",
              "      <th>age</th>\n",
              "      <th>gender</th>\n",
              "      <th>merchant</th>\n",
              "      <th>category</th>\n",
              "      <th>amount</th>\n",
              "      <th>fraud</th>\n",
              "      <th>ageCateg</th>\n",
              "    </tr>\n",
              "  </thead>\n",
              "  <tbody>\n",
              "    <tr>\n",
              "      <th>count</th>\n",
              "      <td>594643.000000</td>\n",
              "      <td>594643</td>\n",
              "      <td>594643</td>\n",
              "      <td>594643</td>\n",
              "      <td>594643</td>\n",
              "      <td>594643</td>\n",
              "      <td>594643.000000</td>\n",
              "      <td>594643.000000</td>\n",
              "      <td>594643</td>\n",
              "    </tr>\n",
              "    <tr>\n",
              "      <th>unique</th>\n",
              "      <td>NaN</td>\n",
              "      <td>4112</td>\n",
              "      <td>8</td>\n",
              "      <td>4</td>\n",
              "      <td>50</td>\n",
              "      <td>15</td>\n",
              "      <td>NaN</td>\n",
              "      <td>NaN</td>\n",
              "      <td>8</td>\n",
              "    </tr>\n",
              "    <tr>\n",
              "      <th>top</th>\n",
              "      <td>NaN</td>\n",
              "      <td>C1978250683</td>\n",
              "      <td>2</td>\n",
              "      <td>F</td>\n",
              "      <td>M1823072687</td>\n",
              "      <td>transportation</td>\n",
              "      <td>NaN</td>\n",
              "      <td>NaN</td>\n",
              "      <td>2 years</td>\n",
              "    </tr>\n",
              "    <tr>\n",
              "      <th>freq</th>\n",
              "      <td>NaN</td>\n",
              "      <td>265</td>\n",
              "      <td>187310</td>\n",
              "      <td>324565</td>\n",
              "      <td>299693</td>\n",
              "      <td>505119</td>\n",
              "      <td>NaN</td>\n",
              "      <td>NaN</td>\n",
              "      <td>187310</td>\n",
              "    </tr>\n",
              "    <tr>\n",
              "      <th>mean</th>\n",
              "      <td>94.986827</td>\n",
              "      <td>NaN</td>\n",
              "      <td>NaN</td>\n",
              "      <td>NaN</td>\n",
              "      <td>NaN</td>\n",
              "      <td>NaN</td>\n",
              "      <td>37.890135</td>\n",
              "      <td>0.012108</td>\n",
              "      <td>NaN</td>\n",
              "    </tr>\n",
              "    <tr>\n",
              "      <th>std</th>\n",
              "      <td>51.053632</td>\n",
              "      <td>NaN</td>\n",
              "      <td>NaN</td>\n",
              "      <td>NaN</td>\n",
              "      <td>NaN</td>\n",
              "      <td>NaN</td>\n",
              "      <td>111.402831</td>\n",
              "      <td>0.109369</td>\n",
              "      <td>NaN</td>\n",
              "    </tr>\n",
              "    <tr>\n",
              "      <th>min</th>\n",
              "      <td>0.000000</td>\n",
              "      <td>NaN</td>\n",
              "      <td>NaN</td>\n",
              "      <td>NaN</td>\n",
              "      <td>NaN</td>\n",
              "      <td>NaN</td>\n",
              "      <td>0.000000</td>\n",
              "      <td>0.000000</td>\n",
              "      <td>NaN</td>\n",
              "    </tr>\n",
              "    <tr>\n",
              "      <th>25%</th>\n",
              "      <td>52.000000</td>\n",
              "      <td>NaN</td>\n",
              "      <td>NaN</td>\n",
              "      <td>NaN</td>\n",
              "      <td>NaN</td>\n",
              "      <td>NaN</td>\n",
              "      <td>13.740000</td>\n",
              "      <td>0.000000</td>\n",
              "      <td>NaN</td>\n",
              "    </tr>\n",
              "    <tr>\n",
              "      <th>50%</th>\n",
              "      <td>97.000000</td>\n",
              "      <td>NaN</td>\n",
              "      <td>NaN</td>\n",
              "      <td>NaN</td>\n",
              "      <td>NaN</td>\n",
              "      <td>NaN</td>\n",
              "      <td>26.900000</td>\n",
              "      <td>0.000000</td>\n",
              "      <td>NaN</td>\n",
              "    </tr>\n",
              "    <tr>\n",
              "      <th>75%</th>\n",
              "      <td>139.000000</td>\n",
              "      <td>NaN</td>\n",
              "      <td>NaN</td>\n",
              "      <td>NaN</td>\n",
              "      <td>NaN</td>\n",
              "      <td>NaN</td>\n",
              "      <td>42.540000</td>\n",
              "      <td>0.000000</td>\n",
              "      <td>NaN</td>\n",
              "    </tr>\n",
              "    <tr>\n",
              "      <th>max</th>\n",
              "      <td>179.000000</td>\n",
              "      <td>NaN</td>\n",
              "      <td>NaN</td>\n",
              "      <td>NaN</td>\n",
              "      <td>NaN</td>\n",
              "      <td>NaN</td>\n",
              "      <td>8329.960000</td>\n",
              "      <td>1.000000</td>\n",
              "      <td>NaN</td>\n",
              "    </tr>\n",
              "  </tbody>\n",
              "</table>\n",
              "</div>"
            ],
            "text/plain": [
              "                 step     customer  ...          fraud ageCateg\n",
              "count   594643.000000       594643  ...  594643.000000   594643\n",
              "unique            NaN         4112  ...            NaN        8\n",
              "top               NaN  C1978250683  ...            NaN  2 years\n",
              "freq              NaN          265  ...            NaN   187310\n",
              "mean        94.986827          NaN  ...       0.012108      NaN\n",
              "std         51.053632          NaN  ...       0.109369      NaN\n",
              "min          0.000000          NaN  ...       0.000000      NaN\n",
              "25%         52.000000          NaN  ...       0.000000      NaN\n",
              "50%         97.000000          NaN  ...       0.000000      NaN\n",
              "75%        139.000000          NaN  ...       0.000000      NaN\n",
              "max        179.000000          NaN  ...       1.000000      NaN\n",
              "\n",
              "[11 rows x 9 columns]"
            ]
          },
          "metadata": {
            "tags": []
          },
          "execution_count": 123
        }
      ]
    },
    {
      "cell_type": "code",
      "metadata": {
        "id": "9IZUZrFJi5MU"
      },
      "source": [
        "def dummies_create(value, data=db_fraud):\n",
        "  x=pd.get_dummies(data[value])\n",
        "  return x\n",
        "a = dummies_create(value=\"gender\")\n",
        "b = dummies_create(value=\"category\")\n",
        "c = dummies_create(value=\"customer\")\n",
        "d = dummies_create(value=\"merchant\")\n",
        "e = dummies_create(value=\"ageCateg\") \n",
        " #create dummies of each categorical variable\n"
      ],
      "execution_count": 124,
      "outputs": []
    },
    {
      "cell_type": "code",
      "metadata": {
        "id": "JIwUJixHSs5F"
      },
      "source": [
        ""
      ],
      "execution_count": 124,
      "outputs": []
    },
    {
      "cell_type": "markdown",
      "metadata": {
        "id": "XwMU0ARjD49M"
      },
      "source": [
        "**Creation of dummies**"
      ]
    },
    {
      "cell_type": "code",
      "metadata": {
        "id": "tIHuFvXZuD-H"
      },
      "source": [
        "pv_categ=db_fraud.pivot_table(index=\"step\", columns=\"category\", values=\"amount\", aggfunc=np.sum)\n",
        "pv_gender=db_fraud.pivot_table(index=\"step\", columns=\"gender\", values=\"amount\", aggfunc=np.sum)\n",
        "pv_ageC=db_fraud.pivot_table(index=\"step\", columns=\"ageCateg\", values=\"amount\", aggfunc=np.sum)\n",
        "pv_fraud=db_fraud.pivot_table(index=\"step\", columns=\"fraud\", values=\"amount\", aggfunc=np.sum)\n",
        "pv_categ_age=db_fraud.pivot_table(index=\"category\", columns=\"ageCateg\", values=\"amount\", aggfunc=\"count\")"
      ],
      "execution_count": 125,
      "outputs": []
    },
    {
      "cell_type": "code",
      "metadata": {
        "id": "YJAGWk1JTNn7"
      },
      "source": [
        "\n",
        "\n"
      ],
      "execution_count": null,
      "outputs": []
    },
    {
      "cell_type": "markdown",
      "metadata": {
        "id": "sZhgenakN0g8"
      },
      "source": [
        "# Statistics and probability"
      ]
    },
    {
      "cell_type": "code",
      "metadata": {
        "id": "48rf8xGIN-Om"
      },
      "source": [
        "def tab(col, data=db_fraud):\n",
        "  tab = pd.DataFrame()\n",
        "  tab[\"Total\"] = data[col].value_counts(normalize=False)\n",
        "  tab[\"freq\"] = data[col].value_counts(normalize=True)\n",
        "  amount_tab = pd.pivot_table(data=db_fraud, index= col, values='amount', aggfunc='sum')\n",
        "  amount_tab = pd.pivot_table(data=db_fraud, index= col, values='amount', aggfunc='sum').sort_values(by=\"amount\", ascending=False)\n",
        "  nb_unique = len(tab)\n",
        "  return tab, amount_tab, nb_unique   #this function returns a table with the columns: total and frequence for each category."
      ],
      "execution_count": 126,
      "outputs": []
    },
    {
      "cell_type": "code",
      "metadata": {
        "id": "TBRhyjGnqd0J",
        "colab": {
          "base_uri": "https://localhost:8080/",
          "height": 450
        },
        "outputId": "69a363fe-58ed-4723-cb49-750336a6e0eb"
      },
      "source": [
        "fraud, amount_fraud, nb_fraud = tab(col = \"fraud\")\n",
        "gender, amount_gender, nb_gender = tab(col = \"gender\")\n",
        "category, amount_categ, nb_category = tab(col = \"category\")\n",
        "customer, amount_custom, nb_customer = tab(col = \"customer\")\n",
        "merchant, amount_merchant, nb_merchant = tab(col=\"merchant\")\n",
        "step, amount_step, nb_step = tab(col = \"step\")\n",
        "age_categ, amount_age_categ, nb_age_categ = tab(col=\"ageCateg\")\n",
        "amount_custom.sort_values(by=\"amount\", ascending=False)"
      ],
      "execution_count": 127,
      "outputs": [
        {
          "output_type": "execute_result",
          "data": {
            "text/html": [
              "<div>\n",
              "<style scoped>\n",
              "    .dataframe tbody tr th:only-of-type {\n",
              "        vertical-align: middle;\n",
              "    }\n",
              "\n",
              "    .dataframe tbody tr th {\n",
              "        vertical-align: top;\n",
              "    }\n",
              "\n",
              "    .dataframe thead th {\n",
              "        text-align: right;\n",
              "    }\n",
              "</style>\n",
              "<table border=\"1\" class=\"dataframe\">\n",
              "  <thead>\n",
              "    <tr style=\"text-align: right;\">\n",
              "      <th></th>\n",
              "      <th>amount</th>\n",
              "    </tr>\n",
              "    <tr>\n",
              "      <th>step</th>\n",
              "      <th></th>\n",
              "    </tr>\n",
              "  </thead>\n",
              "  <tbody>\n",
              "    <tr>\n",
              "      <th>0</th>\n",
              "      <td>92563.27</td>\n",
              "    </tr>\n",
              "    <tr>\n",
              "      <th>1</th>\n",
              "      <td>101662.95</td>\n",
              "    </tr>\n",
              "    <tr>\n",
              "      <th>2</th>\n",
              "      <td>102285.39</td>\n",
              "    </tr>\n",
              "    <tr>\n",
              "      <th>3</th>\n",
              "      <td>107622.07</td>\n",
              "    </tr>\n",
              "    <tr>\n",
              "      <th>4</th>\n",
              "      <td>104445.74</td>\n",
              "    </tr>\n",
              "    <tr>\n",
              "      <th>...</th>\n",
              "      <td>...</td>\n",
              "    </tr>\n",
              "    <tr>\n",
              "      <th>175</th>\n",
              "      <td>132514.09</td>\n",
              "    </tr>\n",
              "    <tr>\n",
              "      <th>176</th>\n",
              "      <td>130933.45</td>\n",
              "    </tr>\n",
              "    <tr>\n",
              "      <th>177</th>\n",
              "      <td>133461.82</td>\n",
              "    </tr>\n",
              "    <tr>\n",
              "      <th>178</th>\n",
              "      <td>141236.33</td>\n",
              "    </tr>\n",
              "    <tr>\n",
              "      <th>179</th>\n",
              "      <td>136036.40</td>\n",
              "    </tr>\n",
              "  </tbody>\n",
              "</table>\n",
              "<p>180 rows × 1 columns</p>\n",
              "</div>"
            ],
            "text/plain": [
              "         amount\n",
              "step           \n",
              "0      92563.27\n",
              "1     101662.95\n",
              "2     102285.39\n",
              "3     107622.07\n",
              "4     104445.74\n",
              "...         ...\n",
              "175   132514.09\n",
              "176   130933.45\n",
              "177   133461.82\n",
              "178   141236.33\n",
              "179   136036.40\n",
              "\n",
              "[180 rows x 1 columns]"
            ]
          },
          "metadata": {
            "tags": []
          },
          "execution_count": 127
        }
      ]
    },
    {
      "cell_type": "code",
      "metadata": {
        "id": "dDbshYt-mmtU"
      },
      "source": [
        "def tab_cross(col1, col2, data=db_fraud):\n",
        "    tb = pd.crosstab(data[col1], data[col2], margins= True, normalize=False)\n",
        "    tb1 = pd.crosstab(data[col1], data[col2], margins= True, normalize=True)\n",
        "    tb2 = pd.crosstab(data[col1], data[col2], margins= True, normalize=\"columns\")\n",
        "    tb3 = pd.crosstab(data[col1], data[col2], margins= True, normalize=\"index\")\n",
        "    chi2, pval, dof, expected = chi2_contingency(tb.iloc[:-1, :-1])\n",
        "    return tb, tb1, tb2, tb3, pval                                            #realize different types of croosstable on the data"
      ],
      "execution_count": 128,
      "outputs": []
    },
    {
      "cell_type": "code",
      "metadata": {
        "id": "2ddKPyJD1CP_"
      },
      "source": [
        "#crosstable for fraud and gender and probability calculus\n",
        "tb_gen_fraud, tb1_gen_fraud, tb2_gen_fraud, tb3_gen_fraud, pval1 = tab_cross(col1 =\"gender\", col2=\"fraud\")\n",
        "\n",
        "#crosstable for category and fraud probability calculus\n",
        "tb_categ_fraud, tb1_categ_fraud, tb2_categ_fraud, tb3_categ_fraud, pval2 = tab_cross(col1 =\"category\", col2=\"fraud\")\n",
        "\n",
        "#crosstable for age and fraud probability calculus\n",
        "tb_age_fraud, tb1_age_fraud, tb2_age_fraud, tb3_age_fraud, pval3 = tab_cross(col1 = \"age\" , col2= \"fraud\")"
      ],
      "execution_count": 129,
      "outputs": []
    },
    {
      "cell_type": "code",
      "metadata": {
        "colab": {
          "base_uri": "https://localhost:8080/",
          "height": 162
        },
        "id": "DGYxuhVW4eqi",
        "outputId": "8d37efdc-865c-42eb-960e-b5ada4b32136"
      },
      "source": [
        "tb3_categ_fraud.T"
      ],
      "execution_count": 177,
      "outputs": [
        {
          "output_type": "execute_result",
          "data": {
            "text/html": [
              "<div>\n",
              "<style scoped>\n",
              "    .dataframe tbody tr th:only-of-type {\n",
              "        vertical-align: middle;\n",
              "    }\n",
              "\n",
              "    .dataframe tbody tr th {\n",
              "        vertical-align: top;\n",
              "    }\n",
              "\n",
              "    .dataframe thead th {\n",
              "        text-align: right;\n",
              "    }\n",
              "</style>\n",
              "<table border=\"1\" class=\"dataframe\">\n",
              "  <thead>\n",
              "    <tr style=\"text-align: right;\">\n",
              "      <th>category</th>\n",
              "      <th>barsandrestaurants</th>\n",
              "      <th>contents</th>\n",
              "      <th>fashion</th>\n",
              "      <th>food</th>\n",
              "      <th>health</th>\n",
              "      <th>home</th>\n",
              "      <th>hotelservices</th>\n",
              "      <th>hyper</th>\n",
              "      <th>leisure</th>\n",
              "      <th>otherservices</th>\n",
              "      <th>sportsandtoys</th>\n",
              "      <th>tech</th>\n",
              "      <th>transportation</th>\n",
              "      <th>travel</th>\n",
              "      <th>wellnessandbeauty</th>\n",
              "      <th>All</th>\n",
              "    </tr>\n",
              "    <tr>\n",
              "      <th>fraud</th>\n",
              "      <th></th>\n",
              "      <th></th>\n",
              "      <th></th>\n",
              "      <th></th>\n",
              "      <th></th>\n",
              "      <th></th>\n",
              "      <th></th>\n",
              "      <th></th>\n",
              "      <th></th>\n",
              "      <th></th>\n",
              "      <th></th>\n",
              "      <th></th>\n",
              "      <th></th>\n",
              "      <th></th>\n",
              "      <th></th>\n",
              "      <th></th>\n",
              "    </tr>\n",
              "  </thead>\n",
              "  <tbody>\n",
              "    <tr>\n",
              "      <th>0</th>\n",
              "      <td>0.981171</td>\n",
              "      <td>1.0</td>\n",
              "      <td>0.982027</td>\n",
              "      <td>1.0</td>\n",
              "      <td>0.894874</td>\n",
              "      <td>0.847936</td>\n",
              "      <td>0.68578</td>\n",
              "      <td>0.954083</td>\n",
              "      <td>0.0501</td>\n",
              "      <td>0.75</td>\n",
              "      <td>0.504748</td>\n",
              "      <td>0.933333</td>\n",
              "      <td>1.0</td>\n",
              "      <td>0.206044</td>\n",
              "      <td>0.952406</td>\n",
              "      <td>0.987892</td>\n",
              "    </tr>\n",
              "    <tr>\n",
              "      <th>1</th>\n",
              "      <td>0.018829</td>\n",
              "      <td>0.0</td>\n",
              "      <td>0.017973</td>\n",
              "      <td>0.0</td>\n",
              "      <td>0.105126</td>\n",
              "      <td>0.152064</td>\n",
              "      <td>0.31422</td>\n",
              "      <td>0.045917</td>\n",
              "      <td>0.9499</td>\n",
              "      <td>0.25</td>\n",
              "      <td>0.495252</td>\n",
              "      <td>0.066667</td>\n",
              "      <td>0.0</td>\n",
              "      <td>0.793956</td>\n",
              "      <td>0.047594</td>\n",
              "      <td>0.012108</td>\n",
              "    </tr>\n",
              "  </tbody>\n",
              "</table>\n",
              "</div>"
            ],
            "text/plain": [
              "category  barsandrestaurants  contents  ...  wellnessandbeauty       All\n",
              "fraud                                   ...                             \n",
              "0                   0.981171       1.0  ...           0.952406  0.987892\n",
              "1                   0.018829       0.0  ...           0.047594  0.012108\n",
              "\n",
              "[2 rows x 16 columns]"
            ]
          },
          "metadata": {
            "tags": []
          },
          "execution_count": 177
        }
      ]
    },
    {
      "cell_type": "code",
      "metadata": {
        "colab": {
          "base_uri": "https://localhost:8080/"
        },
        "id": "lkDu8Aqxjr2c",
        "outputId": "43c304f8-c6eb-4b71-bf7a-67a67a918462"
      },
      "source": [
        "x = db_fraud[db_fraud[\"fraud\"]==1]\n",
        "x = x[[\"category\"]]\n",
        "y = x.value_counts(normalize=True)\n",
        "y"
      ],
      "execution_count": 131,
      "outputs": [
        {
          "output_type": "execute_result",
          "data": {
            "text/plain": [
              "category          \n",
              "sportsandtoys         0.275278\n",
              "health                0.235556\n",
              "wellnessandbeauty     0.099722\n",
              "travel                0.080278\n",
              "hotelservices         0.076111\n",
              "leisure               0.065833\n",
              "home                  0.041944\n",
              "hyper                 0.038889\n",
              "otherservices         0.031667\n",
              "tech                  0.021944\n",
              "barsandrestaurants    0.016667\n",
              "fashion               0.016111\n",
              "dtype: float64"
            ]
          },
          "metadata": {
            "tags": []
          },
          "execution_count": 131
        }
      ]
    },
    {
      "cell_type": "code",
      "metadata": {
        "id": "BRm0arHMsoi-"
      },
      "source": [
        "amount_day = db_fraud[[\"amount\",\"step\", \"category\"]].groupby(pd.Grouper(key=\"step\")).sum()"
      ],
      "execution_count": 132,
      "outputs": []
    },
    {
      "cell_type": "code",
      "metadata": {
        "id": "87nZQfZIL5XM",
        "colab": {
          "base_uri": "https://localhost:8080/",
          "height": 235
        },
        "outputId": "612c01ca-28f6-4467-8f2b-8995ca57414b"
      },
      "source": [
        "tb_gen_fraud"
      ],
      "execution_count": 133,
      "outputs": [
        {
          "output_type": "execute_result",
          "data": {
            "text/html": [
              "<div>\n",
              "<style scoped>\n",
              "    .dataframe tbody tr th:only-of-type {\n",
              "        vertical-align: middle;\n",
              "    }\n",
              "\n",
              "    .dataframe tbody tr th {\n",
              "        vertical-align: top;\n",
              "    }\n",
              "\n",
              "    .dataframe thead th {\n",
              "        text-align: right;\n",
              "    }\n",
              "</style>\n",
              "<table border=\"1\" class=\"dataframe\">\n",
              "  <thead>\n",
              "    <tr style=\"text-align: right;\">\n",
              "      <th>fraud</th>\n",
              "      <th>0</th>\n",
              "      <th>1</th>\n",
              "      <th>All</th>\n",
              "    </tr>\n",
              "    <tr>\n",
              "      <th>gender</th>\n",
              "      <th></th>\n",
              "      <th></th>\n",
              "      <th></th>\n",
              "    </tr>\n",
              "  </thead>\n",
              "  <tbody>\n",
              "    <tr>\n",
              "      <th>E</th>\n",
              "      <td>1171</td>\n",
              "      <td>7</td>\n",
              "      <td>1178</td>\n",
              "    </tr>\n",
              "    <tr>\n",
              "      <th>F</th>\n",
              "      <td>319807</td>\n",
              "      <td>4758</td>\n",
              "      <td>324565</td>\n",
              "    </tr>\n",
              "    <tr>\n",
              "      <th>M</th>\n",
              "      <td>265950</td>\n",
              "      <td>2435</td>\n",
              "      <td>268385</td>\n",
              "    </tr>\n",
              "    <tr>\n",
              "      <th>U</th>\n",
              "      <td>515</td>\n",
              "      <td>0</td>\n",
              "      <td>515</td>\n",
              "    </tr>\n",
              "    <tr>\n",
              "      <th>All</th>\n",
              "      <td>587443</td>\n",
              "      <td>7200</td>\n",
              "      <td>594643</td>\n",
              "    </tr>\n",
              "  </tbody>\n",
              "</table>\n",
              "</div>"
            ],
            "text/plain": [
              "fraud        0     1     All\n",
              "gender                      \n",
              "E         1171     7    1178\n",
              "F       319807  4758  324565\n",
              "M       265950  2435  268385\n",
              "U          515     0     515\n",
              "All     587443  7200  594643"
            ]
          },
          "metadata": {
            "tags": []
          },
          "execution_count": 133
        }
      ]
    },
    {
      "cell_type": "code",
      "metadata": {
        "id": "Rav8Bcq93aBA"
      },
      "source": [
        ""
      ],
      "execution_count": null,
      "outputs": []
    },
    {
      "cell_type": "code",
      "metadata": {
        "id": "KZ1alN1w3SzW"
      },
      "source": [
        ""
      ],
      "execution_count": null,
      "outputs": []
    },
    {
      "cell_type": "markdown",
      "metadata": {
        "id": "cBdkKcxc3Tw0"
      },
      "source": [
        "**The marginal probability**"
      ]
    },
    {
      "cell_type": "code",
      "metadata": {
        "colab": {
          "base_uri": "https://localhost:8080/",
          "height": 359
        },
        "id": "lC6jVaId3asU",
        "outputId": "79f9fe7c-66b3-48a8-fd91-58da029a1c15"
      },
      "source": [
        "tb3_age_fraud"
      ],
      "execution_count": 172,
      "outputs": [
        {
          "output_type": "execute_result",
          "data": {
            "text/html": [
              "<div>\n",
              "<style scoped>\n",
              "    .dataframe tbody tr th:only-of-type {\n",
              "        vertical-align: middle;\n",
              "    }\n",
              "\n",
              "    .dataframe tbody tr th {\n",
              "        vertical-align: top;\n",
              "    }\n",
              "\n",
              "    .dataframe thead th {\n",
              "        text-align: right;\n",
              "    }\n",
              "</style>\n",
              "<table border=\"1\" class=\"dataframe\">\n",
              "  <thead>\n",
              "    <tr style=\"text-align: right;\">\n",
              "      <th>fraud</th>\n",
              "      <th>0</th>\n",
              "      <th>1</th>\n",
              "    </tr>\n",
              "    <tr>\n",
              "      <th>age</th>\n",
              "      <th></th>\n",
              "      <th></th>\n",
              "    </tr>\n",
              "  </thead>\n",
              "  <tbody>\n",
              "    <tr>\n",
              "      <th>0</th>\n",
              "      <td>0.980424</td>\n",
              "      <td>0.019576</td>\n",
              "    </tr>\n",
              "    <tr>\n",
              "      <th>1</th>\n",
              "      <td>0.988147</td>\n",
              "      <td>0.011853</td>\n",
              "    </tr>\n",
              "    <tr>\n",
              "      <th>2</th>\n",
              "      <td>0.987486</td>\n",
              "      <td>0.012514</td>\n",
              "    </tr>\n",
              "    <tr>\n",
              "      <th>3</th>\n",
              "      <td>0.988072</td>\n",
              "      <td>0.011928</td>\n",
              "    </tr>\n",
              "    <tr>\n",
              "      <th>4</th>\n",
              "      <td>0.987067</td>\n",
              "      <td>0.012933</td>\n",
              "    </tr>\n",
              "    <tr>\n",
              "      <th>5</th>\n",
              "      <td>0.989049</td>\n",
              "      <td>0.010951</td>\n",
              "    </tr>\n",
              "    <tr>\n",
              "      <th>6</th>\n",
              "      <td>0.990252</td>\n",
              "      <td>0.009748</td>\n",
              "    </tr>\n",
              "    <tr>\n",
              "      <th>U</th>\n",
              "      <td>0.994058</td>\n",
              "      <td>0.005942</td>\n",
              "    </tr>\n",
              "    <tr>\n",
              "      <th>All</th>\n",
              "      <td>0.987892</td>\n",
              "      <td>0.012108</td>\n",
              "    </tr>\n",
              "  </tbody>\n",
              "</table>\n",
              "</div>"
            ],
            "text/plain": [
              "fraud         0         1\n",
              "age                      \n",
              "0      0.980424  0.019576\n",
              "1      0.988147  0.011853\n",
              "2      0.987486  0.012514\n",
              "3      0.988072  0.011928\n",
              "4      0.987067  0.012933\n",
              "5      0.989049  0.010951\n",
              "6      0.990252  0.009748\n",
              "U      0.994058  0.005942\n",
              "All    0.987892  0.012108"
            ]
          },
          "metadata": {
            "tags": []
          },
          "execution_count": 172
        }
      ]
    },
    {
      "cell_type": "code",
      "metadata": {
        "colab": {
          "base_uri": "https://localhost:8080/",
          "height": 576
        },
        "id": "XlRge1gm3fij",
        "outputId": "df0fed2e-4b1d-4ee0-9247-aba30c14be2f"
      },
      "source": [
        "tb3_categ_fraud"
      ],
      "execution_count": 173,
      "outputs": [
        {
          "output_type": "execute_result",
          "data": {
            "text/html": [
              "<div>\n",
              "<style scoped>\n",
              "    .dataframe tbody tr th:only-of-type {\n",
              "        vertical-align: middle;\n",
              "    }\n",
              "\n",
              "    .dataframe tbody tr th {\n",
              "        vertical-align: top;\n",
              "    }\n",
              "\n",
              "    .dataframe thead th {\n",
              "        text-align: right;\n",
              "    }\n",
              "</style>\n",
              "<table border=\"1\" class=\"dataframe\">\n",
              "  <thead>\n",
              "    <tr style=\"text-align: right;\">\n",
              "      <th>fraud</th>\n",
              "      <th>0</th>\n",
              "      <th>1</th>\n",
              "    </tr>\n",
              "    <tr>\n",
              "      <th>category</th>\n",
              "      <th></th>\n",
              "      <th></th>\n",
              "    </tr>\n",
              "  </thead>\n",
              "  <tbody>\n",
              "    <tr>\n",
              "      <th>barsandrestaurants</th>\n",
              "      <td>0.981171</td>\n",
              "      <td>0.018829</td>\n",
              "    </tr>\n",
              "    <tr>\n",
              "      <th>contents</th>\n",
              "      <td>1.000000</td>\n",
              "      <td>0.000000</td>\n",
              "    </tr>\n",
              "    <tr>\n",
              "      <th>fashion</th>\n",
              "      <td>0.982027</td>\n",
              "      <td>0.017973</td>\n",
              "    </tr>\n",
              "    <tr>\n",
              "      <th>food</th>\n",
              "      <td>1.000000</td>\n",
              "      <td>0.000000</td>\n",
              "    </tr>\n",
              "    <tr>\n",
              "      <th>health</th>\n",
              "      <td>0.894874</td>\n",
              "      <td>0.105126</td>\n",
              "    </tr>\n",
              "    <tr>\n",
              "      <th>home</th>\n",
              "      <td>0.847936</td>\n",
              "      <td>0.152064</td>\n",
              "    </tr>\n",
              "    <tr>\n",
              "      <th>hotelservices</th>\n",
              "      <td>0.685780</td>\n",
              "      <td>0.314220</td>\n",
              "    </tr>\n",
              "    <tr>\n",
              "      <th>hyper</th>\n",
              "      <td>0.954083</td>\n",
              "      <td>0.045917</td>\n",
              "    </tr>\n",
              "    <tr>\n",
              "      <th>leisure</th>\n",
              "      <td>0.050100</td>\n",
              "      <td>0.949900</td>\n",
              "    </tr>\n",
              "    <tr>\n",
              "      <th>otherservices</th>\n",
              "      <td>0.750000</td>\n",
              "      <td>0.250000</td>\n",
              "    </tr>\n",
              "    <tr>\n",
              "      <th>sportsandtoys</th>\n",
              "      <td>0.504748</td>\n",
              "      <td>0.495252</td>\n",
              "    </tr>\n",
              "    <tr>\n",
              "      <th>tech</th>\n",
              "      <td>0.933333</td>\n",
              "      <td>0.066667</td>\n",
              "    </tr>\n",
              "    <tr>\n",
              "      <th>transportation</th>\n",
              "      <td>1.000000</td>\n",
              "      <td>0.000000</td>\n",
              "    </tr>\n",
              "    <tr>\n",
              "      <th>travel</th>\n",
              "      <td>0.206044</td>\n",
              "      <td>0.793956</td>\n",
              "    </tr>\n",
              "    <tr>\n",
              "      <th>wellnessandbeauty</th>\n",
              "      <td>0.952406</td>\n",
              "      <td>0.047594</td>\n",
              "    </tr>\n",
              "    <tr>\n",
              "      <th>All</th>\n",
              "      <td>0.987892</td>\n",
              "      <td>0.012108</td>\n",
              "    </tr>\n",
              "  </tbody>\n",
              "</table>\n",
              "</div>"
            ],
            "text/plain": [
              "fraud                      0         1\n",
              "category                              \n",
              "barsandrestaurants  0.981171  0.018829\n",
              "contents            1.000000  0.000000\n",
              "fashion             0.982027  0.017973\n",
              "food                1.000000  0.000000\n",
              "health              0.894874  0.105126\n",
              "home                0.847936  0.152064\n",
              "hotelservices       0.685780  0.314220\n",
              "hyper               0.954083  0.045917\n",
              "leisure             0.050100  0.949900\n",
              "otherservices       0.750000  0.250000\n",
              "sportsandtoys       0.504748  0.495252\n",
              "tech                0.933333  0.066667\n",
              "transportation      1.000000  0.000000\n",
              "travel              0.206044  0.793956\n",
              "wellnessandbeauty   0.952406  0.047594\n",
              "All                 0.987892  0.012108"
            ]
          },
          "metadata": {
            "tags": []
          },
          "execution_count": 173
        }
      ]
    },
    {
      "cell_type": "code",
      "metadata": {
        "colab": {
          "base_uri": "https://localhost:8080/",
          "height": 235
        },
        "id": "HZ7T2pce3k_b",
        "outputId": "552ca031-4184-45a8-acb0-06865eff0466"
      },
      "source": [
        "tb3_gen_fraud"
      ],
      "execution_count": 174,
      "outputs": [
        {
          "output_type": "execute_result",
          "data": {
            "text/html": [
              "<div>\n",
              "<style scoped>\n",
              "    .dataframe tbody tr th:only-of-type {\n",
              "        vertical-align: middle;\n",
              "    }\n",
              "\n",
              "    .dataframe tbody tr th {\n",
              "        vertical-align: top;\n",
              "    }\n",
              "\n",
              "    .dataframe thead th {\n",
              "        text-align: right;\n",
              "    }\n",
              "</style>\n",
              "<table border=\"1\" class=\"dataframe\">\n",
              "  <thead>\n",
              "    <tr style=\"text-align: right;\">\n",
              "      <th>fraud</th>\n",
              "      <th>0</th>\n",
              "      <th>1</th>\n",
              "    </tr>\n",
              "    <tr>\n",
              "      <th>gender</th>\n",
              "      <th></th>\n",
              "      <th></th>\n",
              "    </tr>\n",
              "  </thead>\n",
              "  <tbody>\n",
              "    <tr>\n",
              "      <th>E</th>\n",
              "      <td>0.994058</td>\n",
              "      <td>0.005942</td>\n",
              "    </tr>\n",
              "    <tr>\n",
              "      <th>F</th>\n",
              "      <td>0.985340</td>\n",
              "      <td>0.014660</td>\n",
              "    </tr>\n",
              "    <tr>\n",
              "      <th>M</th>\n",
              "      <td>0.990927</td>\n",
              "      <td>0.009073</td>\n",
              "    </tr>\n",
              "    <tr>\n",
              "      <th>U</th>\n",
              "      <td>1.000000</td>\n",
              "      <td>0.000000</td>\n",
              "    </tr>\n",
              "    <tr>\n",
              "      <th>All</th>\n",
              "      <td>0.987892</td>\n",
              "      <td>0.012108</td>\n",
              "    </tr>\n",
              "  </tbody>\n",
              "</table>\n",
              "</div>"
            ],
            "text/plain": [
              "fraud          0         1\n",
              "gender                    \n",
              "E       0.994058  0.005942\n",
              "F       0.985340  0.014660\n",
              "M       0.990927  0.009073\n",
              "U       1.000000  0.000000\n",
              "All     0.987892  0.012108"
            ]
          },
          "metadata": {
            "tags": []
          },
          "execution_count": 174
        }
      ]
    },
    {
      "cell_type": "markdown",
      "metadata": {
        "id": "KkpgqKc4eSaI"
      },
      "source": [
        "# Exploratory Data Analysis"
      ]
    },
    {
      "cell_type": "markdown",
      "metadata": {
        "id": "8dhgEurkkOQ-"
      },
      "source": [
        "UNIVARIATE ANALYSIS"
      ]
    },
    {
      "cell_type": "code",
      "metadata": {
        "colab": {
          "base_uri": "https://localhost:8080/",
          "height": 111
        },
        "id": "XrRm2jf5Dslu",
        "outputId": "e05849c2-a97f-4f21-8bcc-a373b08c97a5"
      },
      "source": [
        "fraud"
      ],
      "execution_count": 176,
      "outputs": [
        {
          "output_type": "execute_result",
          "data": {
            "text/html": [
              "<div>\n",
              "<style scoped>\n",
              "    .dataframe tbody tr th:only-of-type {\n",
              "        vertical-align: middle;\n",
              "    }\n",
              "\n",
              "    .dataframe tbody tr th {\n",
              "        vertical-align: top;\n",
              "    }\n",
              "\n",
              "    .dataframe thead th {\n",
              "        text-align: right;\n",
              "    }\n",
              "</style>\n",
              "<table border=\"1\" class=\"dataframe\">\n",
              "  <thead>\n",
              "    <tr style=\"text-align: right;\">\n",
              "      <th></th>\n",
              "      <th>Total</th>\n",
              "      <th>freq</th>\n",
              "    </tr>\n",
              "  </thead>\n",
              "  <tbody>\n",
              "    <tr>\n",
              "      <th>0</th>\n",
              "      <td>587443</td>\n",
              "      <td>0.987892</td>\n",
              "    </tr>\n",
              "    <tr>\n",
              "      <th>1</th>\n",
              "      <td>7200</td>\n",
              "      <td>0.012108</td>\n",
              "    </tr>\n",
              "  </tbody>\n",
              "</table>\n",
              "</div>"
            ],
            "text/plain": [
              "    Total      freq\n",
              "0  587443  0.987892\n",
              "1    7200  0.012108"
            ]
          },
          "metadata": {
            "tags": []
          },
          "execution_count": 176
        }
      ]
    },
    {
      "cell_type": "code",
      "metadata": {
        "id": "C4Vf4CLTkrkK",
        "colab": {
          "base_uri": "https://localhost:8080/",
          "height": 316
        },
        "outputId": "745944a1-177c-4808-cb33-c585c8fa1fd0"
      },
      "source": [
        "def myplot(data, title=\"\",label=\"Occurence\",y=\"\", figsize = (8,5)):\n",
        "    plt.style.use(\"ggplot\")\n",
        "    plt.figure(figsize=figsize)\n",
        "    sns.set_palette('Set2')\n",
        "    sns.barplot(y=data.index,  x= data.Total)\n",
        "    plt.title(title)\n",
        "    plt.xlabel(label)\n",
        "    plt.ylabel(y)\n",
        "    plt.legend()\n",
        "    plt.show\n",
        "myplot(gender[:], title=\"Distribution of the sex\", y=\"Gender\", figsize=(7,4))"
      ],
      "execution_count": 136,
      "outputs": [
        {
          "output_type": "stream",
          "text": [
            "No handles with labels found to put in legend.\n"
          ],
          "name": "stderr"
        },
        {
          "output_type": "display_data",
          "data": {
            "image/png": "[encoded data removed]",
            "text/plain": [
              "<Figure size 504x288 with 1 Axes>"
            ]
          },
          "metadata": {
            "tags": []
          }
        }
      ]
    },
    {
      "cell_type": "code",
      "metadata": {
        "id": "XBTv7OOjVZWk"
      },
      "source": [
        ""
      ],
      "execution_count": 136,
      "outputs": []
    },
    {
      "cell_type": "code",
      "metadata": {
        "id": "HFbSLtb1sSph",
        "colab": {
          "base_uri": "https://localhost:8080/",
          "height": 371
        },
        "outputId": "e997f3d5-4cb2-457d-d7f8-2e617bd6fb91"
      },
      "source": [
        "myplot(category[:6], title=\"Distribution of the transactions by category\", y=\"Category\")"
      ],
      "execution_count": 137,
      "outputs": [
        {
          "output_type": "stream",
          "text": [
            "No handles with labels found to put in legend.\n"
          ],
          "name": "stderr"
        },
        {
          "output_type": "display_data",
          "data": {
            "image/png": "[encoded data removed]",
            "text/plain": [
              "<Figure size 576x360 with 1 Axes>"
            ]
          },
          "metadata": {
            "tags": []
          }
        }
      ]
    },
    {
      "cell_type": "code",
      "metadata": {
        "colab": {
          "base_uri": "https://localhost:8080/",
          "height": 371
        },
        "id": "0eaQSq_asDyH",
        "outputId": "b60852bc-7742-401a-e078-8832cd1ab1d1"
      },
      "source": [
        "myplot(category[1:], title=\"Distribution of the transactions by category\", y=\"Category\")"
      ],
      "execution_count": 163,
      "outputs": [
        {
          "output_type": "stream",
          "text": [
            "No handles with labels found to put in legend.\n"
          ],
          "name": "stderr"
        },
        {
          "output_type": "display_data",
          "data": {
            "image/png": "[encoded data removed]",
            "text/plain": [
              "<Figure size 576x360 with 1 Axes>"
            ]
          },
          "metadata": {
            "tags": []
          }
        }
      ]
    },
    {
      "cell_type": "code",
      "metadata": {
        "id": "EAW477qjsZop",
        "colab": {
          "base_uri": "https://localhost:8080/",
          "height": 371
        },
        "outputId": "9e8f6148-b191-486b-cff2-7d5e4a7c8a7e"
      },
      "source": [
        "myplot(age_categ, title=\"Distribution of the transactions by Age\", y=\"Category of age\")"
      ],
      "execution_count": 138,
      "outputs": [
        {
          "output_type": "stream",
          "text": [
            "No handles with labels found to put in legend.\n"
          ],
          "name": "stderr"
        },
        {
          "output_type": "display_data",
          "data": {
            "image/png": "[encoded data removed]",
            "text/plain": [
              "<Figure size 576x360 with 1 Axes>"
            ]
          },
          "metadata": {
            "tags": []
          }
        }
      ]
    },
    {
      "cell_type": "code",
      "metadata": {
        "id": "1bJRt_ZsTvu0",
        "colab": {
          "base_uri": "https://localhost:8080/",
          "height": 348
        },
        "outputId": "d6f4e6bf-10df-4aff-aff0-3a05ff9b46e9"
      },
      "source": [
        "fig, ax = plt.subplots(figsize=(15,5))\n",
        "amount_day.reset_index().plot.line(x = \"step\", y = [\"amount\"], rot = 60, ax = ax)\n",
        "for p in ax.patches: \n",
        "    ax.annotate(np.round(p.get_height(),decimals=2), (p.get_x()+p.get_width()/2., p.get_height()))"
      ],
      "execution_count": 139,
      "outputs": [
        {
          "output_type": "display_data",
          "data": {
            "image/png": "[encoded data removed]",
            "text/plain": [
              "<Figure size 1080x360 with 1 Axes>"
            ]
          },
          "metadata": {
            "tags": []
          }
        }
      ]
    },
    {
      "cell_type": "code",
      "metadata": {
        "id": "D2kh5z7_zpU0",
        "colab": {
          "base_uri": "https://localhost:8080/",
          "height": 351
        },
        "outputId": "ea73975f-e3ee-4928-8999-54c583affb93"
      },
      "source": [
        "fig, ax = plt.subplots(figsize=(15,5))\n",
        "pv_gender.reset_index().plot.line(x = \"step\", y = [\"M\", \"F\"], rot = 60, ax = ax)\n",
        "for p in ax.patches: \n",
        "    ax.annotate(np.round(p.get_height(),decimals=2), (p.get_x()+p.get_width()/2., p.get_height()))"
      ],
      "execution_count": 140,
      "outputs": [
        {
          "output_type": "display_data",
          "data": {
            "image/png": "[encoded data removed]",
            "text/plain": [
              "<Figure size 1080x360 with 1 Axes>"
            ]
          },
          "metadata": {
            "tags": []
          }
        }
      ]
    },
    {
      "cell_type": "code",
      "metadata": {
        "id": "zPXS1wFTztjy",
        "colab": {
          "base_uri": "https://localhost:8080/",
          "height": 348
        },
        "outputId": "3f1dc0bc-c22a-46e5-d0d0-e012eec37e1d"
      },
      "source": [
        "fig, ax = plt.subplots(figsize=(15,5))\n",
        "pv_categ.reset_index().plot.line(x = \"step\", y =[\"transportation\" ,\"food\", \"health\", \"wellnessandbeauty\", \"fashion\", \"barsandrestaurants\"], rot = 60, ax = ax)\n",
        "for p in ax.patches: \n",
        "    ax.annotate(np.round(p.get_height(),decimals=2), (p.get_x()+p.get_width()/2., p.get_height()))"
      ],
      "execution_count": 141,
      "outputs": [
        {
          "output_type": "display_data",
          "data": {
            "image/png": "[encoded data removed]",
            "text/plain": [
              "<Figure size 1080x360 with 1 Axes>"
            ]
          },
          "metadata": {
            "tags": []
          }
        }
      ]
    },
    {
      "cell_type": "code",
      "metadata": {
        "id": "QYDE9KfM0DdJ",
        "colab": {
          "base_uri": "https://localhost:8080/",
          "height": 348
        },
        "outputId": "c97fa53f-fa04-4f77-8ebb-8193acfe4601"
      },
      "source": [
        "fig, ax = plt.subplots(figsize=(15,5))\n",
        "pv_fraud.reset_index().plot.line(x = \"step\", y =[0,1], rot = 60, ax = ax)\n",
        "for p in ax.patches: \n",
        "    ax.annotate(np.round(p.get_height(),decimals=2), (p.get_x()+p.get_width()/2., p.get_height()))"
      ],
      "execution_count": 142,
      "outputs": [
        {
          "output_type": "display_data",
          "data": {
            "image/png": "[encoded data removed]",
            "text/plain": [
              "<Figure size 1080x360 with 1 Axes>"
            ]
          },
          "metadata": {
            "tags": []
          }
        }
      ]
    },
    {
      "cell_type": "code",
      "metadata": {
        "id": "o1t1H2ZQL1-X",
        "colab": {
          "base_uri": "https://localhost:8080/",
          "height": 371
        },
        "outputId": "2942e2bb-bc51-4a89-d69c-48621004d4bd"
      },
      "source": [
        "db_fraud[db_fraud.amount<750].hist(column=\"amount\", figsize=(10,5))"
      ],
      "execution_count": 143,
      "outputs": [
        {
          "output_type": "execute_result",
          "data": {
            "text/plain": [
              "array([[<matplotlib.axes._subplots.AxesSubplot object at 0x7fdb91a62110>]],\n",
              "      dtype=object)"
            ]
          },
          "metadata": {
            "tags": []
          },
          "execution_count": 143
        },
        {
          "output_type": "display_data",
          "data": {
            "image/png": "[encoded data removed]",
            "text/plain": [
              "<Figure size 720x360 with 1 Axes>"
            ]
          },
          "metadata": {
            "tags": []
          }
        }
      ]
    },
    {
      "cell_type": "markdown",
      "metadata": {
        "id": "RiMkM_7efiM4"
      },
      "source": [
        "# Modeling"
      ]
    },
    {
      "cell_type": "code",
      "metadata": {
        "id": "mApMYVdYN64f"
      },
      "source": [
        ""
      ],
      "execution_count": 143,
      "outputs": []
    },
    {
      "cell_type": "markdown",
      "metadata": {
        "id": "HHZ_yUR8SvyT"
      },
      "source": [
        "# Result"
      ]
    },
    {
      "cell_type": "markdown",
      "metadata": {
        "id": "RzG-RT_eS8NT"
      },
      "source": [
        "Thoughts on fraudulent transactions"
      ]
    },
    {
      "cell_type": "code",
      "metadata": {
        "id": "OUET4VFrTEWU",
        "colab": {
          "base_uri": "https://localhost:8080/",
          "height": 111
        },
        "outputId": "2d868139-610d-4626-9a28-52036134fe45"
      },
      "source": [
        "fraud_transac = db_fraud[db_fraud[\"fraud\"]==1]\n",
        "fraud_transac.head(2)"
      ],
      "execution_count": 144,
      "outputs": [
        {
          "output_type": "execute_result",
          "data": {
            "text/html": [
              "<div>\n",
              "<style scoped>\n",
              "    .dataframe tbody tr th:only-of-type {\n",
              "        vertical-align: middle;\n",
              "    }\n",
              "\n",
              "    .dataframe tbody tr th {\n",
              "        vertical-align: top;\n",
              "    }\n",
              "\n",
              "    .dataframe thead th {\n",
              "        text-align: right;\n",
              "    }\n",
              "</style>\n",
              "<table border=\"1\" class=\"dataframe\">\n",
              "  <thead>\n",
              "    <tr style=\"text-align: right;\">\n",
              "      <th></th>\n",
              "      <th>step</th>\n",
              "      <th>customer</th>\n",
              "      <th>age</th>\n",
              "      <th>gender</th>\n",
              "      <th>merchant</th>\n",
              "      <th>category</th>\n",
              "      <th>amount</th>\n",
              "      <th>fraud</th>\n",
              "      <th>ageCateg</th>\n",
              "    </tr>\n",
              "  </thead>\n",
              "  <tbody>\n",
              "    <tr>\n",
              "      <th>88</th>\n",
              "      <td>0</td>\n",
              "      <td>C583110837</td>\n",
              "      <td>3</td>\n",
              "      <td>M</td>\n",
              "      <td>M480139044</td>\n",
              "      <td>health</td>\n",
              "      <td>44.26</td>\n",
              "      <td>1</td>\n",
              "      <td>3 years</td>\n",
              "    </tr>\n",
              "    <tr>\n",
              "      <th>89</th>\n",
              "      <td>0</td>\n",
              "      <td>C1332295774</td>\n",
              "      <td>3</td>\n",
              "      <td>M</td>\n",
              "      <td>M480139044</td>\n",
              "      <td>health</td>\n",
              "      <td>324.50</td>\n",
              "      <td>1</td>\n",
              "      <td>3 years</td>\n",
              "    </tr>\n",
              "  </tbody>\n",
              "</table>\n",
              "</div>"
            ],
            "text/plain": [
              "    step     customer age gender    merchant category  amount  fraud ageCateg\n",
              "88     0   C583110837   3      M  M480139044   health   44.26      1  3 years\n",
              "89     0  C1332295774   3      M  M480139044   health  324.50      1  3 years"
            ]
          },
          "metadata": {
            "tags": []
          },
          "execution_count": 144
        }
      ]
    },
    {
      "cell_type": "code",
      "metadata": {
        "colab": {
          "base_uri": "https://localhost:8080/",
          "height": 111
        },
        "id": "IJ0sZAJA8AJ8",
        "outputId": "6f0b29dc-8991-401d-b597-efdc4e3e992f"
      },
      "source": [
        "fraud"
      ],
      "execution_count": 175,
      "outputs": [
        {
          "output_type": "execute_result",
          "data": {
            "text/html": [
              "<div>\n",
              "<style scoped>\n",
              "    .dataframe tbody tr th:only-of-type {\n",
              "        vertical-align: middle;\n",
              "    }\n",
              "\n",
              "    .dataframe tbody tr th {\n",
              "        vertical-align: top;\n",
              "    }\n",
              "\n",
              "    .dataframe thead th {\n",
              "        text-align: right;\n",
              "    }\n",
              "</style>\n",
              "<table border=\"1\" class=\"dataframe\">\n",
              "  <thead>\n",
              "    <tr style=\"text-align: right;\">\n",
              "      <th></th>\n",
              "      <th>Total</th>\n",
              "      <th>freq</th>\n",
              "    </tr>\n",
              "  </thead>\n",
              "  <tbody>\n",
              "    <tr>\n",
              "      <th>0</th>\n",
              "      <td>587443</td>\n",
              "      <td>0.987892</td>\n",
              "    </tr>\n",
              "    <tr>\n",
              "      <th>1</th>\n",
              "      <td>7200</td>\n",
              "      <td>0.012108</td>\n",
              "    </tr>\n",
              "  </tbody>\n",
              "</table>\n",
              "</div>"
            ],
            "text/plain": [
              "    Total      freq\n",
              "0  587443  0.987892\n",
              "1    7200  0.012108"
            ]
          },
          "metadata": {
            "tags": []
          },
          "execution_count": 175
        }
      ]
    },
    {
      "cell_type": "markdown",
      "metadata": {
        "id": "ltLeuCql8HLG"
      },
      "source": [
        "We have "
      ]
    },
    {
      "cell_type": "code",
      "metadata": {
        "id": "kpLDDIueuyAF",
        "colab": {
          "base_uri": "https://localhost:8080/"
        },
        "outputId": "38cfd20e-407e-40f7-b0c3-d562876ae042"
      },
      "source": [
        "fraud_transac.amount.sum()"
      ],
      "execution_count": 145,
      "outputs": [
        {
          "output_type": "execute_result",
          "data": {
            "text/plain": [
              "3822671.1700000004"
            ]
          },
          "metadata": {
            "tags": []
          },
          "execution_count": 145
        }
      ]
    },
    {
      "cell_type": "code",
      "metadata": {
        "id": "kknxTXDfUEpF",
        "colab": {
          "base_uri": "https://localhost:8080/",
          "height": 348
        },
        "outputId": "c8a7f2e9-78d1-43e9-8714-d9e469f2cdc9"
      },
      "source": [
        "amount_day1 = db_fraud[[\"amount\",\"step\", \"category\"]].groupby(pd.Grouper(key=\"step\")).sum()\n",
        "fig, ax = plt.subplots(figsize=(15,5))\n",
        "amount_day1.reset_index().plot.line(x = \"step\", y = [\"amount\"], rot = 60, ax = ax)\n",
        "for p in ax.patches: \n",
        "    ax.annotate(np.round(p.get_height(),decimals=2), (p.get_x()+p.get_width()/2., p.get_height()))"
      ],
      "execution_count": 146,
      "outputs": [
        {
          "output_type": "display_data",
          "data": {
            "image/png": "[encoded data removed]",
            "text/plain": [
              "<Figure size 1080x360 with 1 Axes>"
            ]
          },
          "metadata": {
            "tags": []
          }
        }
      ]
    },
    {
      "cell_type": "code",
      "metadata": {
        "id": "0gF5rqyjdn3T",
        "colab": {
          "base_uri": "https://localhost:8080/",
          "height": 337
        },
        "outputId": "d52d18cc-46cf-4f14-a394-6e5fe4c23337"
      },
      "source": [
        "fraud_transac.boxplot(column=\"amount\",figsize=(10,5))"
      ],
      "execution_count": 147,
      "outputs": [
        {
          "output_type": "execute_result",
          "data": {
            "text/plain": [
              "<matplotlib.axes._subplots.AxesSubplot at 0x7fdb9ff3d450>"
            ]
          },
          "metadata": {
            "tags": []
          },
          "execution_count": 147
        },
        {
          "output_type": "display_data",
          "data": {
            "image/png": "[encoded data removed]",
            "text/plain": [
              "<Figure size 720x360 with 1 Axes>"
            ]
          },
          "metadata": {
            "tags": []
          }
        }
      ]
    },
    {
      "cell_type": "code",
      "metadata": {
        "id": "F8RKm8QGuTl6"
      },
      "source": [
        "#fraud_transac[fraud_transac[\"amount\"]].hist(column=\"amount\", figsize=(10,5))"
      ],
      "execution_count": 148,
      "outputs": []
    },
    {
      "cell_type": "markdown",
      "metadata": {
        "id": "0I3J_4hYWbTF"
      },
      "source": [
        "Fraudulent transactions tend to increase day by day. What is amazing to note is that there are frauds every day, so the control must be pushed continuously. Hence the urgency for the bank to solve the problem as soon as possible otherwise it risks losing many of its customers."
      ]
    },
    {
      "cell_type": "code",
      "metadata": {
        "id": "uQW2Bwd_Zpa8",
        "colab": {
          "base_uri": "https://localhost:8080/"
        },
        "outputId": "26ee2576-a9c1-439f-dc2d-3f71dc6cf1f1"
      },
      "source": [
        "print(tb3_gen_fraud)\n",
        "print(\"We performed a chi-square test to see if gender has some dependence on whether one is a victim of fraud or not. \\nThe {pval1} in inferior to 0.05\")\n",
        "print(\"We conclude that there is dependency between gender and fraud.\")\n",
        "print(\"A woman would be more exposed to fraud than a man and those who do not specify their sex are less at risk. In fact, none of them were victims.\")"
      ],
      "execution_count": 149,
      "outputs": [
        {
          "output_type": "stream",
          "text": [
            "fraud          0         1\n",
            "gender                    \n",
            "E       0.994058  0.005942\n",
            "F       0.985340  0.014660\n",
            "M       0.990927  0.009073\n",
            "U       1.000000  0.000000\n",
            "All     0.987892  0.012108\n",
            "We performed a chi-square test to see if gender has some dependence on whether one is a victim of fraud or not. \n",
            "The {pval1} in inferior to 0.05\n",
            "We conclude that there is dependency between gender and fraud.\n",
            "A woman would be more exposed to fraud than a man and those who do not specify their sex are less at risk. In fact, none of them were victims.\n"
          ],
          "name": "stdout"
        }
      ]
    },
    {
      "cell_type": "code",
      "metadata": {
        "id": "uvZPVG8UpC5L",
        "colab": {
          "base_uri": "https://localhost:8080/",
          "height": 576
        },
        "outputId": "21cb1655-2d3e-4b57-9234-d5bc3b4e77d2"
      },
      "source": [
        "tb1_gen_fraud\n",
        "tb_categ_fraud"
      ],
      "execution_count": 150,
      "outputs": [
        {
          "output_type": "execute_result",
          "data": {
            "text/html": [
              "<div>\n",
              "<style scoped>\n",
              "    .dataframe tbody tr th:only-of-type {\n",
              "        vertical-align: middle;\n",
              "    }\n",
              "\n",
              "    .dataframe tbody tr th {\n",
              "        vertical-align: top;\n",
              "    }\n",
              "\n",
              "    .dataframe thead th {\n",
              "        text-align: right;\n",
              "    }\n",
              "</style>\n",
              "<table border=\"1\" class=\"dataframe\">\n",
              "  <thead>\n",
              "    <tr style=\"text-align: right;\">\n",
              "      <th>fraud</th>\n",
              "      <th>0</th>\n",
              "      <th>1</th>\n",
              "      <th>All</th>\n",
              "    </tr>\n",
              "    <tr>\n",
              "      <th>category</th>\n",
              "      <th></th>\n",
              "      <th></th>\n",
              "      <th></th>\n",
              "    </tr>\n",
              "  </thead>\n",
              "  <tbody>\n",
              "    <tr>\n",
              "      <th>barsandrestaurants</th>\n",
              "      <td>6253</td>\n",
              "      <td>120</td>\n",
              "      <td>6373</td>\n",
              "    </tr>\n",
              "    <tr>\n",
              "      <th>contents</th>\n",
              "      <td>885</td>\n",
              "      <td>0</td>\n",
              "      <td>885</td>\n",
              "    </tr>\n",
              "    <tr>\n",
              "      <th>fashion</th>\n",
              "      <td>6338</td>\n",
              "      <td>116</td>\n",
              "      <td>6454</td>\n",
              "    </tr>\n",
              "    <tr>\n",
              "      <th>food</th>\n",
              "      <td>26254</td>\n",
              "      <td>0</td>\n",
              "      <td>26254</td>\n",
              "    </tr>\n",
              "    <tr>\n",
              "      <th>health</th>\n",
              "      <td>14437</td>\n",
              "      <td>1696</td>\n",
              "      <td>16133</td>\n",
              "    </tr>\n",
              "    <tr>\n",
              "      <th>home</th>\n",
              "      <td>1684</td>\n",
              "      <td>302</td>\n",
              "      <td>1986</td>\n",
              "    </tr>\n",
              "    <tr>\n",
              "      <th>hotelservices</th>\n",
              "      <td>1196</td>\n",
              "      <td>548</td>\n",
              "      <td>1744</td>\n",
              "    </tr>\n",
              "    <tr>\n",
              "      <th>hyper</th>\n",
              "      <td>5818</td>\n",
              "      <td>280</td>\n",
              "      <td>6098</td>\n",
              "    </tr>\n",
              "    <tr>\n",
              "      <th>leisure</th>\n",
              "      <td>25</td>\n",
              "      <td>474</td>\n",
              "      <td>499</td>\n",
              "    </tr>\n",
              "    <tr>\n",
              "      <th>otherservices</th>\n",
              "      <td>684</td>\n",
              "      <td>228</td>\n",
              "      <td>912</td>\n",
              "    </tr>\n",
              "    <tr>\n",
              "      <th>sportsandtoys</th>\n",
              "      <td>2020</td>\n",
              "      <td>1982</td>\n",
              "      <td>4002</td>\n",
              "    </tr>\n",
              "    <tr>\n",
              "      <th>tech</th>\n",
              "      <td>2212</td>\n",
              "      <td>158</td>\n",
              "      <td>2370</td>\n",
              "    </tr>\n",
              "    <tr>\n",
              "      <th>transportation</th>\n",
              "      <td>505119</td>\n",
              "      <td>0</td>\n",
              "      <td>505119</td>\n",
              "    </tr>\n",
              "    <tr>\n",
              "      <th>travel</th>\n",
              "      <td>150</td>\n",
              "      <td>578</td>\n",
              "      <td>728</td>\n",
              "    </tr>\n",
              "    <tr>\n",
              "      <th>wellnessandbeauty</th>\n",
              "      <td>14368</td>\n",
              "      <td>718</td>\n",
              "      <td>15086</td>\n",
              "    </tr>\n",
              "    <tr>\n",
              "      <th>All</th>\n",
              "      <td>587443</td>\n",
              "      <td>7200</td>\n",
              "      <td>594643</td>\n",
              "    </tr>\n",
              "  </tbody>\n",
              "</table>\n",
              "</div>"
            ],
            "text/plain": [
              "fraud                    0     1     All\n",
              "category                                \n",
              "barsandrestaurants    6253   120    6373\n",
              "contents               885     0     885\n",
              "fashion               6338   116    6454\n",
              "food                 26254     0   26254\n",
              "health               14437  1696   16133\n",
              "home                  1684   302    1986\n",
              "hotelservices         1196   548    1744\n",
              "hyper                 5818   280    6098\n",
              "leisure                 25   474     499\n",
              "otherservices          684   228     912\n",
              "sportsandtoys         2020  1982    4002\n",
              "tech                  2212   158    2370\n",
              "transportation      505119     0  505119\n",
              "travel                 150   578     728\n",
              "wellnessandbeauty    14368   718   15086\n",
              "All                 587443  7200  594643"
            ]
          },
          "metadata": {
            "tags": []
          },
          "execution_count": 150
        }
      ]
    },
    {
      "cell_type": "code",
      "metadata": {
        "id": "Phg_Rh8Yn1JW",
        "colab": {
          "base_uri": "https://localhost:8080/",
          "height": 369
        },
        "outputId": "4ba48f95-e8d2-4db4-e8eb-e8bc152ac337"
      },
      "source": [
        "plot1 = tb_gen_fraud.iloc[:-1, 1:2].plot(kind=\"bar\", figsize=(12,5))\n",
        "plt.title(\"Sex by fraudulent transactions\")"
      ],
      "execution_count": 151,
      "outputs": [
        {
          "output_type": "execute_result",
          "data": {
            "text/plain": [
              "Text(0.5, 1.0, 'Sex by fraudulent transactions')"
            ]
          },
          "metadata": {
            "tags": []
          },
          "execution_count": 151
        },
        {
          "output_type": "display_data",
          "data": {
            "image/png": "[encoded data removed]",
            "text/plain": [
              "<Figure size 864x360 with 1 Axes>"
            ]
          },
          "metadata": {
            "tags": []
          }
        }
      ]
    },
    {
      "cell_type": "code",
      "metadata": {
        "colab": {
          "base_uri": "https://localhost:8080/",
          "height": 235
        },
        "id": "p3ZVy2MNIKXw",
        "outputId": "2b712168-35d7-4c0e-c7d7-f97b650c5c73"
      },
      "source": [
        "tb3_gen_fraud"
      ],
      "execution_count": 178,
      "outputs": [
        {
          "output_type": "execute_result",
          "data": {
            "text/html": [
              "<div>\n",
              "<style scoped>\n",
              "    .dataframe tbody tr th:only-of-type {\n",
              "        vertical-align: middle;\n",
              "    }\n",
              "\n",
              "    .dataframe tbody tr th {\n",
              "        vertical-align: top;\n",
              "    }\n",
              "\n",
              "    .dataframe thead th {\n",
              "        text-align: right;\n",
              "    }\n",
              "</style>\n",
              "<table border=\"1\" class=\"dataframe\">\n",
              "  <thead>\n",
              "    <tr style=\"text-align: right;\">\n",
              "      <th>fraud</th>\n",
              "      <th>0</th>\n",
              "      <th>1</th>\n",
              "    </tr>\n",
              "    <tr>\n",
              "      <th>gender</th>\n",
              "      <th></th>\n",
              "      <th></th>\n",
              "    </tr>\n",
              "  </thead>\n",
              "  <tbody>\n",
              "    <tr>\n",
              "      <th>E</th>\n",
              "      <td>0.994058</td>\n",
              "      <td>0.005942</td>\n",
              "    </tr>\n",
              "    <tr>\n",
              "      <th>F</th>\n",
              "      <td>0.985340</td>\n",
              "      <td>0.014660</td>\n",
              "    </tr>\n",
              "    <tr>\n",
              "      <th>M</th>\n",
              "      <td>0.990927</td>\n",
              "      <td>0.009073</td>\n",
              "    </tr>\n",
              "    <tr>\n",
              "      <th>U</th>\n",
              "      <td>1.000000</td>\n",
              "      <td>0.000000</td>\n",
              "    </tr>\n",
              "    <tr>\n",
              "      <th>All</th>\n",
              "      <td>0.987892</td>\n",
              "      <td>0.012108</td>\n",
              "    </tr>\n",
              "  </tbody>\n",
              "</table>\n",
              "</div>"
            ],
            "text/plain": [
              "fraud          0         1\n",
              "gender                    \n",
              "E       0.994058  0.005942\n",
              "F       0.985340  0.014660\n",
              "M       0.990927  0.009073\n",
              "U       1.000000  0.000000\n",
              "All     0.987892  0.012108"
            ]
          },
          "metadata": {
            "tags": []
          },
          "execution_count": 178
        }
      ]
    },
    {
      "cell_type": "code",
      "metadata": {
        "id": "oUkpEqeOjM1h",
        "colab": {
          "base_uri": "https://localhost:8080/"
        },
        "outputId": "a753384e-5cf8-4b51-b9d0-c8944c798d88"
      },
      "source": [
        "print(tb3_categ_fraud)\n",
        "print(\"We performed a chi-square test to see if category has some dependence on whether one is a victim of fraud or not. \\nThe {pval1} in inferior to 0.05\")\n",
        "print(\"We conclude that there is dependency between category and fraud.\")\n",
        "print(\"The leisure service would be more exposed to fraud, 94% ot them are fraudulent. Food, contents and transportation are not at risk. In fact, none of them were victims.\")"
      ],
      "execution_count": 152,
      "outputs": [
        {
          "output_type": "stream",
          "text": [
            "fraud                      0         1\n",
            "category                              \n",
            "barsandrestaurants  0.981171  0.018829\n",
            "contents            1.000000  0.000000\n",
            "fashion             0.982027  0.017973\n",
            "food                1.000000  0.000000\n",
            "health              0.894874  0.105126\n",
            "home                0.847936  0.152064\n",
            "hotelservices       0.685780  0.314220\n",
            "hyper               0.954083  0.045917\n",
            "leisure             0.050100  0.949900\n",
            "otherservices       0.750000  0.250000\n",
            "sportsandtoys       0.504748  0.495252\n",
            "tech                0.933333  0.066667\n",
            "transportation      1.000000  0.000000\n",
            "travel              0.206044  0.793956\n",
            "wellnessandbeauty   0.952406  0.047594\n",
            "All                 0.987892  0.012108\n",
            "We performed a chi-square test to see if category has some dependence on whether one is a victim of fraud or not. \n",
            "The {pval1} in inferior to 0.05\n",
            "We conclude that there is dependency between category and fraud.\n",
            "The leisure service would be more exposed to fraud, 94% ot them are fraudulent. Food, contents and transportation are not at risk. In fact, none of them were victims.\n"
          ],
          "name": "stdout"
        }
      ]
    },
    {
      "cell_type": "code",
      "metadata": {
        "id": "3qcPZQaFkTJR",
        "colab": {
          "base_uri": "https://localhost:8080/",
          "height": 368
        },
        "outputId": "a636659e-b2cd-4f7f-bd55-1d1bef337a6a"
      },
      "source": [
        "plot1 = tb_age_fraud.iloc[:-1, 1:2].plot(kind=\"bar\", figsize=(12,5))\n",
        "plt.title(\"Age by fraudulent transactions\")\n"
      ],
      "execution_count": 153,
      "outputs": [
        {
          "output_type": "execute_result",
          "data": {
            "text/plain": [
              "Text(0.5, 1.0, 'Age by fraudulent transactions')"
            ]
          },
          "metadata": {
            "tags": []
          },
          "execution_count": 153
        },
        {
          "output_type": "display_data",
          "data": {
            "image/png": "[encoded data removed]",
            "text/plain": [
              "<Figure size 864x360 with 1 Axes>"
            ]
          },
          "metadata": {
            "tags": []
          }
        }
      ]
    },
    {
      "cell_type": "markdown",
      "metadata": {
        "id": "Ai9MRCyYKTfM"
      },
      "source": [
        "The second class, 18-25 years old, is the most victimized age range among the fraudulent transactions."
      ]
    },
    {
      "cell_type": "code",
      "metadata": {
        "id": "9u0zhUyknuh5",
        "colab": {
          "base_uri": "https://localhost:8080/",
          "height": 459
        },
        "outputId": "ab5e7447-a272-4b7d-b1d9-fc68b8f6d169"
      },
      "source": [
        "plot1 = tb_categ_fraud.iloc[:-1, 1:2].plot(kind=\"bar\", figsize=(12,5))\n",
        "plt.title(\"Category by fraudulent transactions\")"
      ],
      "execution_count": 154,
      "outputs": [
        {
          "output_type": "execute_result",
          "data": {
            "text/plain": [
              "Text(0.5, 1.0, 'Category by fraudulent transactions')"
            ]
          },
          "metadata": {
            "tags": []
          },
          "execution_count": 154
        },
        {
          "output_type": "display_data",
          "data": {
            "image/png": "[encoded data removed]",
            "text/plain": [
              "<Figure size 864x360 with 1 Axes>"
            ]
          },
          "metadata": {
            "tags": []
          }
        }
      ]
    },
    {
      "cell_type": "markdown",
      "metadata": {
        "id": "4Zhv_CMxKnJs"
      },
      "source": [
        "Sports and toys is the most used service among the fraudulent transactions"
      ]
    },
    {
      "cell_type": "markdown",
      "metadata": {
        "id": "d4wYiB_UKPd5"
      },
      "source": [
        ""
      ]
    },
    {
      "cell_type": "markdown",
      "metadata": {
        "id": "FY7nMXMZocdR"
      },
      "source": [
        "In **sport and health**, there is a greater amount of fraudulent transactions."
      ]
    },
    {
      "cell_type": "code",
      "metadata": {
        "id": "XT87tYk3NVxD",
        "colab": {
          "base_uri": "https://localhost:8080/",
          "height": 213
        },
        "outputId": "870e0c54-fd65-47ca-f01d-8dc51c68dfc4"
      },
      "source": [
        "#Create class of amount\n",
        "db_fraud1 = db_fraud.reset_index()\n",
        "db_fraud1['ZZ']=pd.cut(db_fraud1.amount.values,90,ordered=True)\n",
        "# Summarise dataframe using pivot table: Fraud & Class of amount\n",
        "fraud_amount_bank_pivot1=pd.pivot_table(db_fraud1,values=\"index\", index=['fraud',],\n",
        "columns=['ZZ'], aggfunc=\"count\",fill_value =0)\n",
        "#Apply Test\n",
        "stat, p, dof, expected = chi2_contingency(fraud_amount_bank_pivot1.values)\n",
        "print(\"p-values:\",p)\n",
        "if p < 0.05:\n",
        " print(\"Hypothesis Rejected\")\n",
        "else:\n",
        " print(\"Hypothesis Accepted\")\n",
        "fraud_amount_bank_pivot1"
      ],
      "execution_count": 155,
      "outputs": [
        {
          "output_type": "stream",
          "text": [
            "p-values: 0.0\n",
            "Hypothesis Rejected\n"
          ],
          "name": "stdout"
        },
        {
          "output_type": "execute_result",
          "data": {
            "text/html": [
              "<div>\n",
              "<style scoped>\n",
              "    .dataframe tbody tr th:only-of-type {\n",
              "        vertical-align: middle;\n",
              "    }\n",
              "\n",
              "    .dataframe tbody tr th {\n",
              "        vertical-align: top;\n",
              "    }\n",
              "\n",
              "    .dataframe thead th {\n",
              "        text-align: right;\n",
              "    }\n",
              "</style>\n",
              "<table border=\"1\" class=\"dataframe\">\n",
              "  <thead>\n",
              "    <tr style=\"text-align: right;\">\n",
              "      <th>ZZ</th>\n",
              "      <th>(-8.33, 92.555]</th>\n",
              "      <th>(92.555, 185.11]</th>\n",
              "      <th>(185.11, 277.665]</th>\n",
              "      <th>(277.665, 370.22]</th>\n",
              "      <th>(370.22, 462.776]</th>\n",
              "      <th>(462.776, 555.331]</th>\n",
              "      <th>(555.331, 647.886]</th>\n",
              "      <th>(647.886, 740.441]</th>\n",
              "      <th>(740.441, 832.996]</th>\n",
              "      <th>(832.996, 925.551]</th>\n",
              "      <th>(925.551, 1018.106]</th>\n",
              "      <th>(1018.106, 1110.661]</th>\n",
              "      <th>(1110.661, 1203.216]</th>\n",
              "      <th>(1203.216, 1295.772]</th>\n",
              "      <th>(1295.772, 1388.327]</th>\n",
              "      <th>(1388.327, 1480.882]</th>\n",
              "      <th>(1480.882, 1573.437]</th>\n",
              "      <th>(1573.437, 1665.992]</th>\n",
              "      <th>(1665.992, 1758.547]</th>\n",
              "      <th>(1758.547, 1851.102]</th>\n",
              "      <th>(1851.102, 1943.657]</th>\n",
              "      <th>(1943.657, 2036.212]</th>\n",
              "      <th>(2036.212, 2128.768]</th>\n",
              "      <th>(2128.768, 2221.323]</th>\n",
              "      <th>(2221.323, 2313.878]</th>\n",
              "      <th>(2313.878, 2406.433]</th>\n",
              "      <th>(2406.433, 2498.988]</th>\n",
              "      <th>(2498.988, 2591.543]</th>\n",
              "      <th>(2591.543, 2684.098]</th>\n",
              "      <th>(2684.098, 2776.653]</th>\n",
              "      <th>(2776.653, 2869.208]</th>\n",
              "      <th>(2869.208, 2961.764]</th>\n",
              "      <th>(2961.764, 3054.319]</th>\n",
              "      <th>(3054.319, 3146.874]</th>\n",
              "      <th>(3146.874, 3239.429]</th>\n",
              "      <th>(3239.429, 3331.984]</th>\n",
              "      <th>(3331.984, 3424.539]</th>\n",
              "      <th>(3424.539, 3517.094]</th>\n",
              "      <th>(3517.094, 3609.649]</th>\n",
              "      <th>(3609.649, 3702.204]</th>\n",
              "      <th>(3702.204, 3794.76]</th>\n",
              "      <th>(3794.76, 3887.315]</th>\n",
              "      <th>(3887.315, 3979.87]</th>\n",
              "      <th>(3979.87, 4072.425]</th>\n",
              "      <th>(4072.425, 4164.98]</th>\n",
              "      <th>(4164.98, 4257.535]</th>\n",
              "      <th>(4257.535, 4350.09]</th>\n",
              "      <th>(4350.09, 4442.645]</th>\n",
              "      <th>(4442.645, 4535.2]</th>\n",
              "      <th>(4535.2, 4627.756]</th>\n",
              "      <th>(4627.756, 4720.311]</th>\n",
              "      <th>(4720.311, 4812.866]</th>\n",
              "      <th>(4812.866, 4905.421]</th>\n",
              "      <th>(4905.421, 4997.976]</th>\n",
              "      <th>(4997.976, 5090.531]</th>\n",
              "      <th>(5090.531, 5183.086]</th>\n",
              "      <th>(5183.086, 5275.641]</th>\n",
              "      <th>(5275.641, 5368.196]</th>\n",
              "      <th>(5368.196, 5460.752]</th>\n",
              "      <th>(5460.752, 5553.307]</th>\n",
              "      <th>(5553.307, 5645.862]</th>\n",
              "      <th>(5645.862, 5738.417]</th>\n",
              "      <th>(5738.417, 5830.972]</th>\n",
              "      <th>(5830.972, 5923.527]</th>\n",
              "      <th>(6108.637, 6201.192]</th>\n",
              "      <th>(6201.192, 6293.748]</th>\n",
              "      <th>(6293.748, 6386.303]</th>\n",
              "      <th>(6386.303, 6478.858]</th>\n",
              "      <th>(6478.858, 6571.413]</th>\n",
              "      <th>(6571.413, 6663.968]</th>\n",
              "      <th>(6663.968, 6756.523]</th>\n",
              "      <th>(6849.078, 6941.633]</th>\n",
              "      <th>(7126.744, 7219.299]</th>\n",
              "      <th>(7219.299, 7311.854]</th>\n",
              "      <th>(7311.854, 7404.409]</th>\n",
              "      <th>(7404.409, 7496.964]</th>\n",
              "      <th>(7589.519, 7682.074]</th>\n",
              "      <th>(8237.405, 8329.96]</th>\n",
              "    </tr>\n",
              "    <tr>\n",
              "      <th>fraud</th>\n",
              "      <th></th>\n",
              "      <th></th>\n",
              "      <th></th>\n",
              "      <th></th>\n",
              "      <th></th>\n",
              "      <th></th>\n",
              "      <th></th>\n",
              "      <th></th>\n",
              "      <th></th>\n",
              "      <th></th>\n",
              "      <th></th>\n",
              "      <th></th>\n",
              "      <th></th>\n",
              "      <th></th>\n",
              "      <th></th>\n",
              "      <th></th>\n",
              "      <th></th>\n",
              "      <th></th>\n",
              "      <th></th>\n",
              "      <th></th>\n",
              "      <th></th>\n",
              "      <th></th>\n",
              "      <th></th>\n",
              "      <th></th>\n",
              "      <th></th>\n",
              "      <th></th>\n",
              "      <th></th>\n",
              "      <th></th>\n",
              "      <th></th>\n",
              "      <th></th>\n",
              "      <th></th>\n",
              "      <th></th>\n",
              "      <th></th>\n",
              "      <th></th>\n",
              "      <th></th>\n",
              "      <th></th>\n",
              "      <th></th>\n",
              "      <th></th>\n",
              "      <th></th>\n",
              "      <th></th>\n",
              "      <th></th>\n",
              "      <th></th>\n",
              "      <th></th>\n",
              "      <th></th>\n",
              "      <th></th>\n",
              "      <th></th>\n",
              "      <th></th>\n",
              "      <th></th>\n",
              "      <th></th>\n",
              "      <th></th>\n",
              "      <th></th>\n",
              "      <th></th>\n",
              "      <th></th>\n",
              "      <th></th>\n",
              "      <th></th>\n",
              "      <th></th>\n",
              "      <th></th>\n",
              "      <th></th>\n",
              "      <th></th>\n",
              "      <th></th>\n",
              "      <th></th>\n",
              "      <th></th>\n",
              "      <th></th>\n",
              "      <th></th>\n",
              "      <th></th>\n",
              "      <th></th>\n",
              "      <th></th>\n",
              "      <th></th>\n",
              "      <th></th>\n",
              "      <th></th>\n",
              "      <th></th>\n",
              "      <th></th>\n",
              "      <th></th>\n",
              "      <th></th>\n",
              "      <th></th>\n",
              "      <th></th>\n",
              "      <th></th>\n",
              "      <th></th>\n",
              "    </tr>\n",
              "  </thead>\n",
              "  <tbody>\n",
              "    <tr>\n",
              "      <th>0</th>\n",
              "      <td>570585</td>\n",
              "      <td>13361</td>\n",
              "      <td>2815</td>\n",
              "      <td>502</td>\n",
              "      <td>85</td>\n",
              "      <td>15</td>\n",
              "      <td>8</td>\n",
              "      <td>13</td>\n",
              "      <td>11</td>\n",
              "      <td>11</td>\n",
              "      <td>7</td>\n",
              "      <td>2</td>\n",
              "      <td>2</td>\n",
              "      <td>9</td>\n",
              "      <td>3</td>\n",
              "      <td>2</td>\n",
              "      <td>5</td>\n",
              "      <td>1</td>\n",
              "      <td>0</td>\n",
              "      <td>2</td>\n",
              "      <td>0</td>\n",
              "      <td>3</td>\n",
              "      <td>0</td>\n",
              "      <td>1</td>\n",
              "      <td>0</td>\n",
              "      <td>0</td>\n",
              "      <td>0</td>\n",
              "      <td>0</td>\n",
              "      <td>0</td>\n",
              "      <td>0</td>\n",
              "      <td>0</td>\n",
              "      <td>0</td>\n",
              "      <td>0</td>\n",
              "      <td>0</td>\n",
              "      <td>0</td>\n",
              "      <td>0</td>\n",
              "      <td>0</td>\n",
              "      <td>0</td>\n",
              "      <td>0</td>\n",
              "      <td>0</td>\n",
              "      <td>0</td>\n",
              "      <td>0</td>\n",
              "      <td>0</td>\n",
              "      <td>0</td>\n",
              "      <td>0</td>\n",
              "      <td>0</td>\n",
              "      <td>0</td>\n",
              "      <td>0</td>\n",
              "      <td>0</td>\n",
              "      <td>0</td>\n",
              "      <td>0</td>\n",
              "      <td>0</td>\n",
              "      <td>0</td>\n",
              "      <td>0</td>\n",
              "      <td>0</td>\n",
              "      <td>0</td>\n",
              "      <td>0</td>\n",
              "      <td>0</td>\n",
              "      <td>0</td>\n",
              "      <td>0</td>\n",
              "      <td>0</td>\n",
              "      <td>0</td>\n",
              "      <td>0</td>\n",
              "      <td>0</td>\n",
              "      <td>0</td>\n",
              "      <td>0</td>\n",
              "      <td>0</td>\n",
              "      <td>0</td>\n",
              "      <td>0</td>\n",
              "      <td>0</td>\n",
              "      <td>0</td>\n",
              "      <td>0</td>\n",
              "      <td>0</td>\n",
              "      <td>0</td>\n",
              "      <td>0</td>\n",
              "      <td>0</td>\n",
              "      <td>0</td>\n",
              "      <td>0</td>\n",
              "    </tr>\n",
              "    <tr>\n",
              "      <th>1</th>\n",
              "      <td>1059</td>\n",
              "      <td>1007</td>\n",
              "      <td>1053</td>\n",
              "      <td>1046</td>\n",
              "      <td>736</td>\n",
              "      <td>529</td>\n",
              "      <td>426</td>\n",
              "      <td>288</td>\n",
              "      <td>223</td>\n",
              "      <td>155</td>\n",
              "      <td>93</td>\n",
              "      <td>72</td>\n",
              "      <td>42</td>\n",
              "      <td>14</td>\n",
              "      <td>19</td>\n",
              "      <td>23</td>\n",
              "      <td>13</td>\n",
              "      <td>10</td>\n",
              "      <td>7</td>\n",
              "      <td>17</td>\n",
              "      <td>15</td>\n",
              "      <td>16</td>\n",
              "      <td>11</td>\n",
              "      <td>9</td>\n",
              "      <td>10</td>\n",
              "      <td>14</td>\n",
              "      <td>13</td>\n",
              "      <td>7</td>\n",
              "      <td>11</td>\n",
              "      <td>10</td>\n",
              "      <td>12</td>\n",
              "      <td>14</td>\n",
              "      <td>8</td>\n",
              "      <td>13</td>\n",
              "      <td>6</td>\n",
              "      <td>6</td>\n",
              "      <td>11</td>\n",
              "      <td>3</td>\n",
              "      <td>9</td>\n",
              "      <td>12</td>\n",
              "      <td>6</td>\n",
              "      <td>7</td>\n",
              "      <td>7</td>\n",
              "      <td>11</td>\n",
              "      <td>6</td>\n",
              "      <td>13</td>\n",
              "      <td>6</td>\n",
              "      <td>5</td>\n",
              "      <td>3</td>\n",
              "      <td>5</td>\n",
              "      <td>8</td>\n",
              "      <td>12</td>\n",
              "      <td>4</td>\n",
              "      <td>6</td>\n",
              "      <td>1</td>\n",
              "      <td>4</td>\n",
              "      <td>4</td>\n",
              "      <td>5</td>\n",
              "      <td>2</td>\n",
              "      <td>5</td>\n",
              "      <td>2</td>\n",
              "      <td>6</td>\n",
              "      <td>5</td>\n",
              "      <td>1</td>\n",
              "      <td>7</td>\n",
              "      <td>1</td>\n",
              "      <td>1</td>\n",
              "      <td>1</td>\n",
              "      <td>2</td>\n",
              "      <td>3</td>\n",
              "      <td>1</td>\n",
              "      <td>1</td>\n",
              "      <td>1</td>\n",
              "      <td>1</td>\n",
              "      <td>1</td>\n",
              "      <td>1</td>\n",
              "      <td>2</td>\n",
              "      <td>1</td>\n",
              "    </tr>\n",
              "  </tbody>\n",
              "</table>\n",
              "</div>"
            ],
            "text/plain": [
              "ZZ     (-8.33, 92.555]  ...  (8237.405, 8329.96]\n",
              "fraud                   ...                     \n",
              "0               570585  ...                    0\n",
              "1                 1059  ...                    1\n",
              "\n",
              "[2 rows x 78 columns]"
            ]
          },
          "metadata": {
            "tags": []
          },
          "execution_count": 155
        }
      ]
    },
    {
      "cell_type": "code",
      "metadata": {
        "colab": {
          "base_uri": "https://localhost:8080/",
          "height": 142
        },
        "id": "zM3_WVjDzL9e",
        "outputId": "904fb305-60f0-4775-ef8d-859ba198fa77"
      },
      "source": [
        "db_fraud2=db_fraud.copy()\n",
        "db_fraud2[\"Class_amount\"] = db_fraud[\"amount\"].apply(lambda x: \"inf to 2000\" if x<2000 else \"Sup to 2000\")\n",
        "pv_fraude2=db_fraud2.pivot_table(index=\"Class_amount\", columns=\"fraud\", values=\"amount\", aggfunc=\"count\")\n",
        "pv_fraude2"
      ],
      "execution_count": 171,
      "outputs": [
        {
          "output_type": "execute_result",
          "data": {
            "text/html": [
              "<div>\n",
              "<style scoped>\n",
              "    .dataframe tbody tr th:only-of-type {\n",
              "        vertical-align: middle;\n",
              "    }\n",
              "\n",
              "    .dataframe tbody tr th {\n",
              "        vertical-align: top;\n",
              "    }\n",
              "\n",
              "    .dataframe thead th {\n",
              "        text-align: right;\n",
              "    }\n",
              "</style>\n",
              "<table border=\"1\" class=\"dataframe\">\n",
              "  <thead>\n",
              "    <tr style=\"text-align: right;\">\n",
              "      <th>fraud</th>\n",
              "      <th>0</th>\n",
              "      <th>1</th>\n",
              "    </tr>\n",
              "    <tr>\n",
              "      <th>Class_amount</th>\n",
              "      <th></th>\n",
              "      <th></th>\n",
              "    </tr>\n",
              "  </thead>\n",
              "  <tbody>\n",
              "    <tr>\n",
              "      <th>Sup to 2000</th>\n",
              "      <td>1</td>\n",
              "      <td>343</td>\n",
              "    </tr>\n",
              "    <tr>\n",
              "      <th>inf to 2000</th>\n",
              "      <td>587442</td>\n",
              "      <td>6857</td>\n",
              "    </tr>\n",
              "  </tbody>\n",
              "</table>\n",
              "</div>"
            ],
            "text/plain": [
              "fraud              0     1\n",
              "Class_amount              \n",
              "Sup to 2000        1   343\n",
              "inf to 2000   587442  6857"
            ]
          },
          "metadata": {
            "tags": []
          },
          "execution_count": 171
        }
      ]
    },
    {
      "cell_type": "markdown",
      "metadata": {
        "id": "qEeMP799RjoT"
      },
      "source": [
        "We have shown that there is a dependency between the amount of purchases and whether there is fraud or not.  The pivot table above shows that from 2000 dollars for a transaction, there are no more safe transactions. The bank needs to increase control over these transactions."
      ]
    },
    {
      "cell_type": "markdown",
      "metadata": {
        "id": "PuAP5tDJintp"
      },
      "source": [
        ""
      ]
    },
    {
      "cell_type": "markdown",
      "metadata": {
        "id": "QW-Hc1Nra4JY"
      },
      "source": [
        "The reduction on frauds if we cancel the transactions over 2000 because they are mostly fraudulent."
      ]
    },
    {
      "cell_type": "code",
      "metadata": {
        "colab": {
          "base_uri": "https://localhost:8080/"
        },
        "id": "5fpoLxAuZmxs",
        "outputId": "103c1ebb-2dd4-4afa-db3c-566dca67dc1c"
      },
      "source": [
        "fraud_transac[fraud_transac[\"amount\"]>2000][\"amount\"].sum()"
      ],
      "execution_count": 156,
      "outputs": [
        {
          "output_type": "execute_result",
          "data": {
            "text/plain": [
              "1298859.8499999999"
            ]
          },
          "metadata": {
            "tags": []
          },
          "execution_count": 156
        }
      ]
    },
    {
      "cell_type": "markdown",
      "metadata": {
        "id": "cThXK0T7cJjr"
      },
      "source": [
        "The reduction on frauds if we cancel the transactions for the leisure services."
      ]
    },
    {
      "cell_type": "code",
      "metadata": {
        "colab": {
          "base_uri": "https://localhost:8080/"
        },
        "id": "s_z069YXaf5z",
        "outputId": "68de26a2-c2c4-4be4-8964-a277289f2967"
      },
      "source": [
        "fraud_transac[fraud_transac.category==\"leisure\"][\"amount\"].sum()"
      ],
      "execution_count": 157,
      "outputs": [
        {
          "output_type": "execute_result",
          "data": {
            "text/plain": [
              "142335.97999999998"
            ]
          },
          "metadata": {
            "tags": []
          },
          "execution_count": 157
        }
      ]
    },
    {
      "cell_type": "code",
      "metadata": {
        "colab": {
          "base_uri": "https://localhost:8080/",
          "height": 545
        },
        "id": "JcaGqB6-cr0M",
        "outputId": "8242d568-a0b5-4a2e-9bf4-e5afe52568e1"
      },
      "source": [
        "pv_categ_age"
      ],
      "execution_count": 158,
      "outputs": [
        {
          "output_type": "execute_result",
          "data": {
            "text/html": [
              "<div>\n",
              "<style scoped>\n",
              "    .dataframe tbody tr th:only-of-type {\n",
              "        vertical-align: middle;\n",
              "    }\n",
              "\n",
              "    .dataframe tbody tr th {\n",
              "        vertical-align: top;\n",
              "    }\n",
              "\n",
              "    .dataframe thead th {\n",
              "        text-align: right;\n",
              "    }\n",
              "</style>\n",
              "<table border=\"1\" class=\"dataframe\">\n",
              "  <thead>\n",
              "    <tr style=\"text-align: right;\">\n",
              "      <th>ageCateg</th>\n",
              "      <th>0 years</th>\n",
              "      <th>1 years</th>\n",
              "      <th>2 years</th>\n",
              "      <th>3 years</th>\n",
              "      <th>4 years</th>\n",
              "      <th>5 years</th>\n",
              "      <th>6 years</th>\n",
              "      <th>U years</th>\n",
              "    </tr>\n",
              "    <tr>\n",
              "      <th>category</th>\n",
              "      <th></th>\n",
              "      <th></th>\n",
              "      <th></th>\n",
              "      <th></th>\n",
              "      <th></th>\n",
              "      <th></th>\n",
              "      <th></th>\n",
              "      <th></th>\n",
              "    </tr>\n",
              "  </thead>\n",
              "  <tbody>\n",
              "    <tr>\n",
              "      <th>barsandrestaurants</th>\n",
              "      <td>32.0</td>\n",
              "      <td>606.0</td>\n",
              "      <td>2093.0</td>\n",
              "      <td>1488.0</td>\n",
              "      <td>1153.0</td>\n",
              "      <td>680.0</td>\n",
              "      <td>307.0</td>\n",
              "      <td>14.0</td>\n",
              "    </tr>\n",
              "    <tr>\n",
              "      <th>contents</th>\n",
              "      <td>4.0</td>\n",
              "      <td>99.0</td>\n",
              "      <td>282.0</td>\n",
              "      <td>235.0</td>\n",
              "      <td>145.0</td>\n",
              "      <td>84.0</td>\n",
              "      <td>32.0</td>\n",
              "      <td>4.0</td>\n",
              "    </tr>\n",
              "    <tr>\n",
              "      <th>fashion</th>\n",
              "      <td>38.0</td>\n",
              "      <td>613.0</td>\n",
              "      <td>1977.0</td>\n",
              "      <td>1671.0</td>\n",
              "      <td>1214.0</td>\n",
              "      <td>672.0</td>\n",
              "      <td>257.0</td>\n",
              "      <td>12.0</td>\n",
              "    </tr>\n",
              "    <tr>\n",
              "      <th>food</th>\n",
              "      <td>123.0</td>\n",
              "      <td>2589.0</td>\n",
              "      <td>8220.0</td>\n",
              "      <td>6739.0</td>\n",
              "      <td>4760.0</td>\n",
              "      <td>2719.0</td>\n",
              "      <td>1040.0</td>\n",
              "      <td>64.0</td>\n",
              "    </tr>\n",
              "    <tr>\n",
              "      <th>health</th>\n",
              "      <td>113.0</td>\n",
              "      <td>1676.0</td>\n",
              "      <td>5080.0</td>\n",
              "      <td>4048.0</td>\n",
              "      <td>2957.0</td>\n",
              "      <td>1526.0</td>\n",
              "      <td>687.0</td>\n",
              "      <td>46.0</td>\n",
              "    </tr>\n",
              "    <tr>\n",
              "      <th>home</th>\n",
              "      <td>12.0</td>\n",
              "      <td>196.0</td>\n",
              "      <td>610.0</td>\n",
              "      <td>486.0</td>\n",
              "      <td>392.0</td>\n",
              "      <td>200.0</td>\n",
              "      <td>88.0</td>\n",
              "      <td>2.0</td>\n",
              "    </tr>\n",
              "    <tr>\n",
              "      <th>hotelservices</th>\n",
              "      <td>5.0</td>\n",
              "      <td>178.0</td>\n",
              "      <td>552.0</td>\n",
              "      <td>428.0</td>\n",
              "      <td>319.0</td>\n",
              "      <td>183.0</td>\n",
              "      <td>71.0</td>\n",
              "      <td>8.0</td>\n",
              "    </tr>\n",
              "    <tr>\n",
              "      <th>hyper</th>\n",
              "      <td>25.0</td>\n",
              "      <td>541.0</td>\n",
              "      <td>1941.0</td>\n",
              "      <td>1448.0</td>\n",
              "      <td>1145.0</td>\n",
              "      <td>662.0</td>\n",
              "      <td>322.0</td>\n",
              "      <td>14.0</td>\n",
              "    </tr>\n",
              "    <tr>\n",
              "      <th>leisure</th>\n",
              "      <td>5.0</td>\n",
              "      <td>58.0</td>\n",
              "      <td>135.0</td>\n",
              "      <td>138.0</td>\n",
              "      <td>88.0</td>\n",
              "      <td>54.0</td>\n",
              "      <td>20.0</td>\n",
              "      <td>1.0</td>\n",
              "    </tr>\n",
              "    <tr>\n",
              "      <th>otherservices</th>\n",
              "      <td>8.0</td>\n",
              "      <td>89.0</td>\n",
              "      <td>266.0</td>\n",
              "      <td>259.0</td>\n",
              "      <td>177.0</td>\n",
              "      <td>71.0</td>\n",
              "      <td>40.0</td>\n",
              "      <td>2.0</td>\n",
              "    </tr>\n",
              "    <tr>\n",
              "      <th>sportsandtoys</th>\n",
              "      <td>16.0</td>\n",
              "      <td>377.0</td>\n",
              "      <td>1266.0</td>\n",
              "      <td>955.0</td>\n",
              "      <td>809.0</td>\n",
              "      <td>391.0</td>\n",
              "      <td>184.0</td>\n",
              "      <td>4.0</td>\n",
              "    </tr>\n",
              "    <tr>\n",
              "      <th>tech</th>\n",
              "      <td>16.0</td>\n",
              "      <td>240.0</td>\n",
              "      <td>756.0</td>\n",
              "      <td>591.0</td>\n",
              "      <td>432.0</td>\n",
              "      <td>229.0</td>\n",
              "      <td>99.0</td>\n",
              "      <td>7.0</td>\n",
              "    </tr>\n",
              "    <tr>\n",
              "      <th>transportation</th>\n",
              "      <td>1960.0</td>\n",
              "      <td>49455.0</td>\n",
              "      <td>159026.0</td>\n",
              "      <td>124707.0</td>\n",
              "      <td>92467.0</td>\n",
              "      <td>53596.0</td>\n",
              "      <td>22933.0</td>\n",
              "      <td>975.0</td>\n",
              "    </tr>\n",
              "    <tr>\n",
              "      <th>travel</th>\n",
              "      <td>6.0</td>\n",
              "      <td>65.0</td>\n",
              "      <td>238.0</td>\n",
              "      <td>191.0</td>\n",
              "      <td>137.0</td>\n",
              "      <td>58.0</td>\n",
              "      <td>33.0</td>\n",
              "      <td>NaN</td>\n",
              "    </tr>\n",
              "    <tr>\n",
              "      <th>wellnessandbeauty</th>\n",
              "      <td>89.0</td>\n",
              "      <td>1349.0</td>\n",
              "      <td>4868.0</td>\n",
              "      <td>3747.0</td>\n",
              "      <td>2830.0</td>\n",
              "      <td>1517.0</td>\n",
              "      <td>661.0</td>\n",
              "      <td>25.0</td>\n",
              "    </tr>\n",
              "  </tbody>\n",
              "</table>\n",
              "</div>"
            ],
            "text/plain": [
              "ageCateg            0 years  1 years   2 years  ...  5 years  6 years  U years\n",
              "category                                        ...                           \n",
              "barsandrestaurants     32.0    606.0    2093.0  ...    680.0    307.0     14.0\n",
              "contents                4.0     99.0     282.0  ...     84.0     32.0      4.0\n",
              "fashion                38.0    613.0    1977.0  ...    672.0    257.0     12.0\n",
              "food                  123.0   2589.0    8220.0  ...   2719.0   1040.0     64.0\n",
              "health                113.0   1676.0    5080.0  ...   1526.0    687.0     46.0\n",
              "home                   12.0    196.0     610.0  ...    200.0     88.0      2.0\n",
              "hotelservices           5.0    178.0     552.0  ...    183.0     71.0      8.0\n",
              "hyper                  25.0    541.0    1941.0  ...    662.0    322.0     14.0\n",
              "leisure                 5.0     58.0     135.0  ...     54.0     20.0      1.0\n",
              "otherservices           8.0     89.0     266.0  ...     71.0     40.0      2.0\n",
              "sportsandtoys          16.0    377.0    1266.0  ...    391.0    184.0      4.0\n",
              "tech                   16.0    240.0     756.0  ...    229.0     99.0      7.0\n",
              "transportation       1960.0  49455.0  159026.0  ...  53596.0  22933.0    975.0\n",
              "travel                  6.0     65.0     238.0  ...     58.0     33.0      NaN\n",
              "wellnessandbeauty      89.0   1349.0    4868.0  ...   1517.0    661.0     25.0\n",
              "\n",
              "[15 rows x 8 columns]"
            ]
          },
          "metadata": {
            "tags": []
          },
          "execution_count": 158
        }
      ]
    },
    {
      "cell_type": "markdown",
      "metadata": {
        "id": "4YercqoWh-1F"
      },
      "source": [
        "Transportation is the most used service and we found out that no fraudulent transactions have not been done for this.\n"
      ]
    }
  ]
}